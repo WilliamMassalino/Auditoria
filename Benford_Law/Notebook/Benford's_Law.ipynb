{
 "cells": [
  {
   "cell_type": "markdown",
   "metadata": {},
   "source": [
    "# Benford's law"
   ]
  },
  {
   "cell_type": "markdown",
   "metadata": {},
   "source": [
    "Como o primeiro dígito de qualquer número pode variar de \"1\" a \"9\" (sem considerar \"0\"), seria intuitivamente esperado que a proporção de cada ocorrência em um conjunto de registros numéricos fosse distribuída uniformemente em 1/9 , ou seja, aproximadamente 0,1111 ou 11,11%."
   ]
  },
  {
   "cell_type": "markdown",
   "metadata": {},
   "source": [
    "A [Lei de Benford]('https://pt.wikipedia.org/wiki/Lei_de_Benford'), também conhecida como Lei dos Primeiros Dígitos ou Fenômeno dos Dígitos Significativos, é a constatação de que os primeiros dígitos dos números encontrados em séries de registros das mais variadas fontes não exibem uma distribuição uniforme, mas estão dispostos de maneira que o dígito \"1\" seja o mais frequente, seguido de \"2\", \"3\" e, de maneira sucessiva e decrescente, até \"9\", que apresenta a menor frequência como o primeiro dígito.\n",
    "\n",
    "As distribuições esperadas dos primeiros dígitos em um conjunto de dados compatível com Benford são as mostradas abaixo:\n"
   ]
  },
  {
   "cell_type": "markdown",
   "metadata": {},
   "source": [
    "<center><img src =Grafico_Lei_de_Benford.png></center>"
   ]
  },
  {
   "cell_type": "markdown",
   "metadata": {},
   "source": [
    "O primeiro registro sobre o assunto data de 1881, na obra de Simon Newcomb, astrônomo e matemático americano-canadense, que observou que nas tabelas logarítmicas as primeiras páginas, que continham logaritmos começando com os números \"1\" e \"2\" , estavam mais desgastados, ou seja, mais consultadas.\n"
   ]
  },
  {
   "cell_type": "markdown",
   "metadata": {},
   "source": [
    " <center><img src= \"Simon_Newcomb_APS.jpg\"></center>"
   ]
  },
  {
   "cell_type": "markdown",
   "metadata": {},
   "source": [
    "## Simon Newcomb, 1835-1909.\n",
    "\n",
    "Nesse mesmo artigo, Newcomb propôs a fórmula para a probabilidade de um determinado dígito \"d\" ser o primeiro dígito de um número, dado pela seguinte equação.\n",
    "\n",
    "\n",
    "<center><img src =formula.png></center>\n",
    "\n",
    "               onde: P (D = d) é a probabilidade de que o primeiro dígito seja igual a d e d é um número inteiro que varia de 1 a 9."
   ]
  },
  {
   "cell_type": "markdown",
   "metadata": {},
   "source": [
    "## Frank Benford\n",
    "\n",
    "Em 1938, o físico americano Frank Benford revisitou o fenômeno, que ele chamou de \"Lei dos Números Anômalos\", em uma pesquisa com mais de 20.000 observações de dados empíricos compilados de várias fontes, variando de áreas de rios a pesos moleculares de compostos químicos. , incluindo dados de custo, números de endereço, tamanhos de população e constantes físicas. Todos eles, em maior ou menor grau, seguiram essa distribuição.\n",
    "\n",
    "<center><img src =2429_Benford-Frank.jpg></center>\n",
    "\n",
    "                                                Frank Albert Benford, Jr., 1883-1948."
   ]
  },
  {
   "cell_type": "markdown",
   "metadata": {},
   "source": [
    "A extensão do trabalho de Benford parece ter sido uma boa razão para o fenômeno ser popularizado com seu nome, embora descrito por Newcomb 57 anos antes.\n",
    "\n",
    "Derivações da fórmula original também foram aplicadas nas descobertas esperadas das proporções de dígitos em outras posições do número, como no caso do segundo dígito (BENFORD, 1938), bem como combinações, como os dois primeiros dígitos de um número (NIGRINI, 2012, p.5)."
   ]
  },
  {
   "cell_type": "markdown",
   "metadata": {},
   "source": [
    "Em 1938, as pesquisas e cálculos eram realizados manualmente, o que dava muito trabalho. Hoje, com o poder da computação e a facilidade de acessar grandes conjuntos de dados, pode-se ver que a Lei dos números esperados de Benford é válida. O site (http://TestingBenfordsLaw.com) aplica em vários conjuntos de dados a Lei de Benford. Ele testa dados como usuários do Twitter pela contagem de seguidores, códigos de acesso mais comuns do iPhone, população de cidades espanholas, gastos do governo do Reino Unido e até inclui os primeiros 652.066 números de Fibonacci."
   ]
  },
  {
   "cell_type": "markdown",
   "metadata": {},
   "source": [
    "## Aplicando a Lei de Benford\n",
    "\n",
    "A maioria dos dados financeiros e contábeis está em conformidade com os números naturais e, portanto, está sujeita à lei de Benford. Por exemplo, suponha que você possua um fundo mútuo de ações no valor de US 1.000. Para que seu fundo atinja US 2.000 em valor, teria que dobrar, crescendo 100%. Para aumentar de US 2.000 para US 3.000, seria necessário crescer apenas 50%. Para que o primeiro dígito seja um 4, ele precisa crescer mais 33%. Como prevê a lei de Benford, para que o dígito principal 1 se torne 2, é preciso haver mais crescimento do que para o 3 se tornar 4, e assim por diante. Como uma distribuição de Benford é uma \"distribuição de distribuições\", os conjuntos de dados financeiros tendem a obedecer, pois resultam da combinação de números - embora ocorram exceções.\n",
    "\n",
    "Como as pessoas geralmente desconhecem a lei de Benford, elas não são consideradas quando falsificam registros numéricos. Isso fornece aos auditores e contadores forenses uma ferramenta poderosa para identificar rapidamente conjuntos de dados que podem ser fraudulentos. De fato, as comparações com a lei de Benford são legalmente admissíveis como evidência em casos criminais dos EUA nos níveis federal, estadual e local.\n",
    "\n",
    "No caso de 1993 do Estado do Arizona vs. Nelson, o acusado desviou quase US $ 2 milhões para fornecedores falsos, na tentativa de fraudar o estado. Apesar de ter o cuidado de fazer com que os cheques falsos parecessem legítimos, a distribuição do primeiro dígito claramente violou a lei de Benford (Figura abaixo), levando a uma condenação."
   ]
  },
  {
   "cell_type": "markdown",
   "metadata": {},
   "source": [
    "<center><img src =AZvsNelson.jpg></center>\n",
    "            \n",
    "Comparação da frequência dos primeiros dígitos em verificações fraudulentas com a frequência antecipada da lei de Benford, Estado do Arizona x Wayne James Nelson (CV92-18841).\n"
   ]
  },
  {
   "cell_type": "markdown",
   "metadata": {},
   "source": [
    "A lei de Benford também é útil para auditorias internas de negócios. Imagine um caso em que qualquer despesa de viagem e entretenimento acima de US  10.000 deve ser aprovada pelo vice-presidente da empresa. Esse tipo de limite financeiro pode tentar os funcionários a fazer coisas como dividir faturas para burlar o sistema. A figura abaixo baseia-se em um grupo de despesas que variam de US  100 a US  12.000, onde todos os valores superiores a US  9.999 foram divididos em duas partes iguais. Como você pode imaginar, há um aumento nas frequências de primeiro dígito em torno de 5 e 6, em clara violação da lei de Benford.\n",
    "\n",
    "<center><img src =Faturas.jpg></center>\n",
    "\n",
    "    A divisão de faturas acima de US  9.999 para um conjunto de dados que varia de US 100 a US 12.000 viola a lei de Benford."
   ]
  },
  {
   "cell_type": "markdown",
   "metadata": {},
   "source": [
    "Em uma escala maior, a lei de Benford revelou irregularidades nos dados financeiros - como números de receita - de grandes corporações. Um exemplo famoso foi o da Enron, que praticou fraudes contábeis institucionalizadas, conforme demonstrado abaixo. A falência da Enron em 2001 foi a maior da história da época e resultou na prisão de vários altos executivos. O escândalo também provocou a dissolução da Arthur Andersen, uma empresa de contabilidade \"Big Five\" e uma das maiores empresas multinacionais do mundo.\n",
    "\n",
    "<center><img src=Enron.jpg></center>\n",
    "\n",
    "Frequência dos primeiros dígitos dos dados financeiros do ano 2000 da Enron versus frequência prevista com base na lei de Benford (após o Wall Street Journal)"
   ]
  },
  {
   "cell_type": "markdown",
   "metadata": {},
   "source": [
    "A maioria dos softwares específicos para auditoria (ACL, IDEA, etc...) contém uma função de análise para a Lei de Benford. Aqui utilizaremos a linguagem Python para realizarmos algumas análises.\n",
    "Eu poderia tentar criar uma função no Python para realizarmos a aplicação da Lei de Benford, mas a maravilha das linguagens open source é que muito provavelmente alguém já criou alguma biblioteca específica para algum problema. Com relação a Lei de Benford não é diferente. Existe um pacote muito útil que utilizaremos aqui. Dicas de instalação e utilização podem ser encontrados [aqui](https://github.com/milcent/benford_py)."
   ]
  },
  {
   "cell_type": "code",
   "execution_count": 1,
   "metadata": {},
   "outputs": [],
   "source": [
    "# Carregando as bibliotecas que utilizaremos nas demonstrações.\n",
    "%matplotlib inline\n",
    "import numpy as np\n",
    "import pandas as pd\n",
    "import benford as bf"
   ]
  },
  {
   "cell_type": "markdown",
   "metadata": {},
   "source": [
    "Para demonstrar um pouco dessa Lei na prática, primeiro iremos utilizar o conjunto de dados 'censo_2010', que é o Censo do ano de 2010 de todos os municípios Brasileiros e suas respectivas Populações."
   ]
  },
  {
   "cell_type": "code",
   "execution_count": 2,
   "metadata": {},
   "outputs": [
    {
     "data": {
      "text/html": [
       "<div>\n",
       "<style scoped>\n",
       "    .dataframe tbody tr th:only-of-type {\n",
       "        vertical-align: middle;\n",
       "    }\n",
       "\n",
       "    .dataframe tbody tr th {\n",
       "        vertical-align: top;\n",
       "    }\n",
       "\n",
       "    .dataframe thead th {\n",
       "        text-align: right;\n",
       "    }\n",
       "</style>\n",
       "<table border=\"1\" class=\"dataframe\">\n",
       "  <thead>\n",
       "    <tr style=\"text-align: right;\">\n",
       "      <th></th>\n",
       "      <th>Posição</th>\n",
       "      <th>Município</th>\n",
       "      <th>População</th>\n",
       "    </tr>\n",
       "  </thead>\n",
       "  <tbody>\n",
       "    <tr>\n",
       "      <th>0</th>\n",
       "      <td>1</td>\n",
       "      <td>São Paulo</td>\n",
       "      <td>11253503</td>\n",
       "    </tr>\n",
       "    <tr>\n",
       "      <th>1</th>\n",
       "      <td>2</td>\n",
       "      <td>Rio de Janeiro</td>\n",
       "      <td>6323037</td>\n",
       "    </tr>\n",
       "    <tr>\n",
       "      <th>2</th>\n",
       "      <td>3</td>\n",
       "      <td>Salvador</td>\n",
       "      <td>2676606</td>\n",
       "    </tr>\n",
       "    <tr>\n",
       "      <th>3</th>\n",
       "      <td>4</td>\n",
       "      <td>Brasília</td>\n",
       "      <td>2562963</td>\n",
       "    </tr>\n",
       "    <tr>\n",
       "      <th>4</th>\n",
       "      <td>5</td>\n",
       "      <td>Fortaleza</td>\n",
       "      <td>2447409</td>\n",
       "    </tr>\n",
       "  </tbody>\n",
       "</table>\n",
       "</div>"
      ],
      "text/plain": [
       "   Posição       Município  População\n",
       "0        1       São Paulo   11253503\n",
       "1        2  Rio de Janeiro    6323037\n",
       "2        3        Salvador    2676606\n",
       "3        4        Brasília    2562963\n",
       "4        5       Fortaleza    2447409"
      ]
     },
     "execution_count": 2,
     "metadata": {},
     "output_type": "execute_result"
    }
   ],
   "source": [
    "censo_2010 = pd.read_csv('censo_2010.csv', sep =';', dtype =({'População': int}))\n",
    "censo_2010.head()"
   ]
  },
  {
   "cell_type": "code",
   "execution_count": 3,
   "metadata": {},
   "outputs": [],
   "source": [
    "população = censo_2010.loc[:,'População']\n"
   ]
  },
  {
   "cell_type": "code",
   "execution_count": 4,
   "metadata": {},
   "outputs": [
    {
     "name": "stdout",
     "output_type": "stream",
     "text": [
      "Initialized sequence with 5565 registries.\n",
      "\n",
      "Test performed on 5565 registries.\n",
      "Discarded 0 records < 1 after preparation.\n",
      "\n",
      "The entries with the significant positive deviations are:\n",
      "\n",
      "Empty DataFrame\n",
      "Columns: [Expected, Found, Z_score]\n",
      "Index: []\n"
     ]
    },
    {
     "data": {
      "image/png": "[encoded data removed]",
      "text/plain": [
       "<Figure size 864x648 with 1 Axes>"
      ]
     },
     "metadata": {
      "needs_background": "light"
     },
     "output_type": "display_data"
    }
   ],
   "source": [
    "prim_dig = bf.first_digits(população,digs=1, confidence=95)\n"
   ]
  },
  {
   "cell_type": "code",
   "execution_count": 5,
   "metadata": {},
   "outputs": [
    {
     "data": {
      "text/html": [
       "<div>\n",
       "<style scoped>\n",
       "    .dataframe tbody tr th:only-of-type {\n",
       "        vertical-align: middle;\n",
       "    }\n",
       "\n",
       "    .dataframe tbody tr th {\n",
       "        vertical-align: top;\n",
       "    }\n",
       "\n",
       "    .dataframe thead th {\n",
       "        text-align: right;\n",
       "    }\n",
       "</style>\n",
       "<table border=\"1\" class=\"dataframe\">\n",
       "  <thead>\n",
       "    <tr style=\"text-align: right;\">\n",
       "      <th></th>\n",
       "      <th>Counts</th>\n",
       "      <th>Found</th>\n",
       "      <th>Expected</th>\n",
       "      <th>Z_score</th>\n",
       "    </tr>\n",
       "    <tr>\n",
       "      <th>First_1_Dig</th>\n",
       "      <th></th>\n",
       "      <th></th>\n",
       "      <th></th>\n",
       "      <th></th>\n",
       "    </tr>\n",
       "  </thead>\n",
       "  <tbody>\n",
       "    <tr>\n",
       "      <th>9</th>\n",
       "      <td>199</td>\n",
       "      <td>0.035759</td>\n",
       "      <td>0.045757</td>\n",
       "      <td>3.537343</td>\n",
       "    </tr>\n",
       "    <tr>\n",
       "      <th>8</th>\n",
       "      <td>254</td>\n",
       "      <td>0.045642</td>\n",
       "      <td>0.051153</td>\n",
       "      <td>1.835361</td>\n",
       "    </tr>\n",
       "    <tr>\n",
       "      <th>3</th>\n",
       "      <td>730</td>\n",
       "      <td>0.131177</td>\n",
       "      <td>0.124939</td>\n",
       "      <td>1.387165</td>\n",
       "    </tr>\n",
       "    <tr>\n",
       "      <th>4</th>\n",
       "      <td>570</td>\n",
       "      <td>0.102426</td>\n",
       "      <td>0.096910</td>\n",
       "      <td>1.368245</td>\n",
       "    </tr>\n",
       "    <tr>\n",
       "      <th>5</th>\n",
       "      <td>467</td>\n",
       "      <td>0.083917</td>\n",
       "      <td>0.079181</td>\n",
       "      <td>1.283621</td>\n",
       "    </tr>\n",
       "    <tr>\n",
       "      <th>1</th>\n",
       "      <td>1646</td>\n",
       "      <td>0.295777</td>\n",
       "      <td>0.301030</td>\n",
       "      <td>0.839649</td>\n",
       "    </tr>\n",
       "    <tr>\n",
       "      <th>2</th>\n",
       "      <td>1001</td>\n",
       "      <td>0.179874</td>\n",
       "      <td>0.176091</td>\n",
       "      <td>0.723296</td>\n",
       "    </tr>\n",
       "    <tr>\n",
       "      <th>7</th>\n",
       "      <td>328</td>\n",
       "      <td>0.058940</td>\n",
       "      <td>0.057992</td>\n",
       "      <td>0.273850</td>\n",
       "    </tr>\n",
       "    <tr>\n",
       "      <th>6</th>\n",
       "      <td>370</td>\n",
       "      <td>0.066487</td>\n",
       "      <td>0.066947</td>\n",
       "      <td>0.110429</td>\n",
       "    </tr>\n",
       "  </tbody>\n",
       "</table>\n",
       "</div>"
      ],
      "text/plain": [
       "             Counts     Found  Expected   Z_score\n",
       "First_1_Dig                                      \n",
       "9               199  0.035759  0.045757  3.537343\n",
       "8               254  0.045642  0.051153  1.835361\n",
       "3               730  0.131177  0.124939  1.387165\n",
       "4               570  0.102426  0.096910  1.368245\n",
       "5               467  0.083917  0.079181  1.283621\n",
       "1              1646  0.295777  0.301030  0.839649\n",
       "2              1001  0.179874  0.176091  0.723296\n",
       "7               328  0.058940  0.057992  0.273850\n",
       "6               370  0.066487  0.066947  0.110429"
      ]
     },
     "execution_count": 5,
     "metadata": {},
     "output_type": "execute_result"
    }
   ],
   "source": [
    "prim_dig"
   ]
  },
  {
   "cell_type": "markdown",
   "metadata": {},
   "source": [
    "Como podemos ver, as colunas demonstram a distribuição dos digítos do dataset, a linha vermelha demonstra a distribuição esperada segundo a Lei de Benford. Vemos então que esse conjunto de dados esta em aderência com a Lei de Benford."
   ]
  },
  {
   "cell_type": "markdown",
   "metadata": {},
   "source": [
    "No nosso próximo exemplo, veremos gastos do governo do Reino Unido com transporte entre maio e setembro de 2010."
   ]
  },
  {
   "cell_type": "code",
   "execution_count": 6,
   "metadata": {},
   "outputs": [
    {
     "data": {
      "text/html": [
       "<div>\n",
       "<style scoped>\n",
       "    .dataframe tbody tr th:only-of-type {\n",
       "        vertical-align: middle;\n",
       "    }\n",
       "\n",
       "    .dataframe tbody tr th {\n",
       "        vertical-align: top;\n",
       "    }\n",
       "\n",
       "    .dataframe thead th {\n",
       "        text-align: right;\n",
       "    }\n",
       "</style>\n",
       "<table border=\"1\" class=\"dataframe\">\n",
       "  <thead>\n",
       "    <tr style=\"text-align: right;\">\n",
       "      <th></th>\n",
       "      <th>Ignore</th>\n",
       "      <th>Year</th>\n",
       "      <th>Month</th>\n",
       "      <th>Department Family</th>\n",
       "      <th>Entity</th>\n",
       "      <th>Payment Date</th>\n",
       "      <th>Expense Type</th>\n",
       "      <th>Expense Area</th>\n",
       "      <th>Supplier</th>\n",
       "      <th>System Transaction Number</th>\n",
       "      <th>Amount</th>\n",
       "    </tr>\n",
       "  </thead>\n",
       "  <tbody>\n",
       "    <tr>\n",
       "      <th>0</th>\n",
       "      <td>644</td>\n",
       "      <td>2010</td>\n",
       "      <td>May</td>\n",
       "      <td>Department for Transport</td>\n",
       "      <td>Department for Transport</td>\n",
       "      <td>05/12/2010</td>\n",
       "      <td>Agency Staff Costs</td>\n",
       "      <td>Finance &amp; Estates</td>\n",
       "      <td>ALLEN LANE FINANCIAL RECRUITMENT</td>\n",
       "      <td>2000003095</td>\n",
       "      <td>1674</td>\n",
       "    </tr>\n",
       "    <tr>\n",
       "      <th>1</th>\n",
       "      <td>645</td>\n",
       "      <td>2010</td>\n",
       "      <td>May</td>\n",
       "      <td>Department for Transport</td>\n",
       "      <td>Department for Transport</td>\n",
       "      <td>05/12/2010</td>\n",
       "      <td>Agency Staff Costs</td>\n",
       "      <td>Finance &amp; Estates</td>\n",
       "      <td>KELLY SERVICES (UK) LTD</td>\n",
       "      <td>2000003106</td>\n",
       "      <td>824</td>\n",
       "    </tr>\n",
       "    <tr>\n",
       "      <th>2</th>\n",
       "      <td>646</td>\n",
       "      <td>2010</td>\n",
       "      <td>May</td>\n",
       "      <td>Department for Transport</td>\n",
       "      <td>Department for Transport</td>\n",
       "      <td>05/12/2010</td>\n",
       "      <td>Agency Staff Costs</td>\n",
       "      <td>Finance &amp; Planning</td>\n",
       "      <td>HAYS PERSONNEL SERVICE LTD</td>\n",
       "      <td>2000000588</td>\n",
       "      <td>2703</td>\n",
       "    </tr>\n",
       "    <tr>\n",
       "      <th>3</th>\n",
       "      <td>647</td>\n",
       "      <td>2010</td>\n",
       "      <td>May</td>\n",
       "      <td>Department for Transport</td>\n",
       "      <td>Department for Transport</td>\n",
       "      <td>05/12/2010</td>\n",
       "      <td>Agency Staff Costs</td>\n",
       "      <td>Finance &amp; Planning</td>\n",
       "      <td>MICHAEL PAGE INTERNATIONAL</td>\n",
       "      <td>2000000594</td>\n",
       "      <td>2203</td>\n",
       "    </tr>\n",
       "    <tr>\n",
       "      <th>4</th>\n",
       "      <td>648</td>\n",
       "      <td>2010</td>\n",
       "      <td>May</td>\n",
       "      <td>Department for Transport</td>\n",
       "      <td>Department for Transport</td>\n",
       "      <td>05/12/2010</td>\n",
       "      <td>Agency Staff Costs</td>\n",
       "      <td>Information Management Directorate</td>\n",
       "      <td>PARITY RESOURCES LTD</td>\n",
       "      <td>2000003121</td>\n",
       "      <td>4951</td>\n",
       "    </tr>\n",
       "  </tbody>\n",
       "</table>\n",
       "</div>"
      ],
      "text/plain": [
       "   Ignore  Year Month         Department Family                    Entity  \\\n",
       "0     644  2010   May  Department for Transport  Department for Transport   \n",
       "1     645  2010   May  Department for Transport  Department for Transport   \n",
       "2     646  2010   May  Department for Transport  Department for Transport   \n",
       "3     647  2010   May  Department for Transport  Department for Transport   \n",
       "4     648  2010   May  Department for Transport  Department for Transport   \n",
       "\n",
       "  Payment Date        Expense Type                        Expense Area  \\\n",
       "0   05/12/2010  Agency Staff Costs                  Finance & Estates    \n",
       "1   05/12/2010  Agency Staff Costs                  Finance & Estates    \n",
       "2   05/12/2010  Agency Staff Costs                  Finance & Planning   \n",
       "3   05/12/2010  Agency Staff Costs                  Finance & Planning   \n",
       "4   05/12/2010  Agency Staff Costs  Information Management Directorate   \n",
       "\n",
       "                           Supplier  System Transaction Number  Amount  \n",
       "0  ALLEN LANE FINANCIAL RECRUITMENT                 2000003095    1674  \n",
       "1           KELLY SERVICES (UK) LTD                 2000003106     824  \n",
       "2        HAYS PERSONNEL SERVICE LTD                 2000000588    2703  \n",
       "3        MICHAEL PAGE INTERNATIONAL                 2000000594    2203  \n",
       "4              PARITY RESOURCES LTD                 2000003121    4951  "
      ]
     },
     "execution_count": 6,
     "metadata": {},
     "output_type": "execute_result"
    }
   ],
   "source": [
    "transporte = pd.read_csv('transporte.csv', sep = ';', dtype = ({'Amount':int}))\n",
    "transporte.head()"
   ]
  },
  {
   "cell_type": "code",
   "execution_count": 7,
   "metadata": {},
   "outputs": [],
   "source": [
    "valor = transporte.loc[:,'Amount']"
   ]
  },
  {
   "cell_type": "code",
   "execution_count": 8,
   "metadata": {},
   "outputs": [
    {
     "name": "stdout",
     "output_type": "stream",
     "text": [
      "Initialized sequence with 6861 registries.\n",
      "\n",
      "Test performed on 6861 registries.\n",
      "Discarded 29 records < 1 after preparation.\n"
     ]
    },
    {
     "name": "stderr",
     "output_type": "stream",
     "text": [
      "C:\\Users\\CWILLIAN\\AppData\\Local\\Continuum\\anaconda3\\lib\\site-packages\\benford\\benford.py:300: SettingWithCopyWarning: \n",
      "A value is trying to be set on a copy of a slice from a DataFrame.\n",
      "Try using .loc[row_indexer,col_indexer] = value instead\n",
      "\n",
      "See the caveats in the documentation: http://pandas.pydata.org/pandas-docs/stable/indexing.html#indexing-view-versus-copy\n",
      "  int)\n"
     ]
    },
    {
     "data": {
      "image/png": "[encoded data removed]",
      "text/plain": [
       "<Figure size 864x648 with 1 Axes>"
      ]
     },
     "metadata": {
      "needs_background": "light"
     },
     "output_type": "display_data"
    }
   ],
   "source": [
    "prim_dig_trans = bf.first_digits(valor, digs=1)"
   ]
  },
  {
   "cell_type": "code",
   "execution_count": 9,
   "metadata": {},
   "outputs": [
    {
     "data": {
      "text/html": [
       "<div>\n",
       "<style scoped>\n",
       "    .dataframe tbody tr th:only-of-type {\n",
       "        vertical-align: middle;\n",
       "    }\n",
       "\n",
       "    .dataframe tbody tr th {\n",
       "        vertical-align: top;\n",
       "    }\n",
       "\n",
       "    .dataframe thead th {\n",
       "        text-align: right;\n",
       "    }\n",
       "</style>\n",
       "<table border=\"1\" class=\"dataframe\">\n",
       "  <thead>\n",
       "    <tr style=\"text-align: right;\">\n",
       "      <th></th>\n",
       "      <th>Counts</th>\n",
       "      <th>Found</th>\n",
       "      <th>Expected</th>\n",
       "    </tr>\n",
       "    <tr>\n",
       "      <th>First_1_Dig</th>\n",
       "      <th></th>\n",
       "      <th></th>\n",
       "      <th></th>\n",
       "    </tr>\n",
       "  </thead>\n",
       "  <tbody>\n",
       "    <tr>\n",
       "      <th>1</th>\n",
       "      <td>2099</td>\n",
       "      <td>0.307231</td>\n",
       "      <td>0.301030</td>\n",
       "    </tr>\n",
       "    <tr>\n",
       "      <th>2</th>\n",
       "      <td>1047</td>\n",
       "      <td>0.153249</td>\n",
       "      <td>0.176091</td>\n",
       "    </tr>\n",
       "    <tr>\n",
       "      <th>3</th>\n",
       "      <td>639</td>\n",
       "      <td>0.093530</td>\n",
       "      <td>0.124939</td>\n",
       "    </tr>\n",
       "    <tr>\n",
       "      <th>4</th>\n",
       "      <td>555</td>\n",
       "      <td>0.081235</td>\n",
       "      <td>0.096910</td>\n",
       "    </tr>\n",
       "    <tr>\n",
       "      <th>5</th>\n",
       "      <td>720</td>\n",
       "      <td>0.105386</td>\n",
       "      <td>0.079181</td>\n",
       "    </tr>\n",
       "    <tr>\n",
       "      <th>6</th>\n",
       "      <td>549</td>\n",
       "      <td>0.080357</td>\n",
       "      <td>0.066947</td>\n",
       "    </tr>\n",
       "    <tr>\n",
       "      <th>7</th>\n",
       "      <td>447</td>\n",
       "      <td>0.065427</td>\n",
       "      <td>0.057992</td>\n",
       "    </tr>\n",
       "    <tr>\n",
       "      <th>8</th>\n",
       "      <td>408</td>\n",
       "      <td>0.059719</td>\n",
       "      <td>0.051153</td>\n",
       "    </tr>\n",
       "    <tr>\n",
       "      <th>9</th>\n",
       "      <td>368</td>\n",
       "      <td>0.053864</td>\n",
       "      <td>0.045757</td>\n",
       "    </tr>\n",
       "  </tbody>\n",
       "</table>\n",
       "</div>"
      ],
      "text/plain": [
       "             Counts     Found  Expected\n",
       "First_1_Dig                            \n",
       "1              2099  0.307231  0.301030\n",
       "2              1047  0.153249  0.176091\n",
       "3               639  0.093530  0.124939\n",
       "4               555  0.081235  0.096910\n",
       "5               720  0.105386  0.079181\n",
       "6               549  0.080357  0.066947\n",
       "7               447  0.065427  0.057992\n",
       "8               408  0.059719  0.051153\n",
       "9               368  0.053864  0.045757"
      ]
     },
     "execution_count": 9,
     "metadata": {},
     "output_type": "execute_result"
    }
   ],
   "source": [
    "prim_dig_trans"
   ]
  },
  {
   "cell_type": "markdown",
   "metadata": {},
   "source": [
    "Podemos ver também que aqui temos uma aderência a Lei de Benford, com excessão de uma pequena variação para menos dos números 3 e 4, e para mais no número 5."
   ]
  },
  {
   "cell_type": "markdown",
   "metadata": {},
   "source": [
    "Cabe frisar que a Lei de Benford não é aplicável a qualquer dataset que contenha dados numéricos. Para que a Lei de Benford seja aplicável, certas condições devem ser atendidas.\n",
    "\n",
    "* Os números no conjunto de dados devem descrever o mesmo objeto.\n",
    "\n",
    "* Não deve haver um valor máximo ou mínimo estabelecido para os números.\n",
    "\n",
    "* Os números não devem ser atribuídos, como números de telefone, números de contas bancárias, CPF's etc...\n",
    "\n",
    "* Não se aplica a distribuições uniformes, como bolas de loteria, onde as bolas uniformes são selecionadas e não os números reais."
   ]
  },
  {
   "cell_type": "markdown",
   "metadata": {},
   "source": [
    "Os testes primários da Lei de Benford são os testes do primeiro dígito, dos dois primeiros dígitos, dos três primeiros dígitos e do segundo dígito. Os testes avançados da Lei de Benford são soma e segunda ordem. Os testes associados são os últimos dois dígitos, duplicação de números e modelo de fator de distorção. \n",
    "\n",
    "O teste de duplicação de números identifica números específicos que causam picos ou anomalias nos testes primário e de soma. Os picos nos testes primários são causados por alguns números específicos que ocorrem anormalmente com muita frequência. Números anormalmente grandes em valor causam picos no teste de soma.\n",
    "\n",
    "O modelo do fator de distorção mostra se os dados têm um excesso de dígitos mais baixos ou mais altos. Ele assume que o número verdadeiro é alterado para um número falso no mesmo intervalo ou porcentagem que o número verdadeiro."
   ]
  },
  {
   "cell_type": "markdown",
   "metadata": {},
   "source": [
    "A maioria das apresentações e artigos discute o uso da Lei de Benford para detectar números próximos aos limites de autorização. Por exemplo, se o limite de autorização de alguém for US 10.000, muitos dois primeiros dígitos na área 99, 98 e 97 serão detectados usando a Lei de Benford, se eles estiverem tentando maximizar as despesas de autorização. Algumas outras aplicações práticas incluem:\n",
    "\n",
    "* Dados de contas a pagar (despesas)\n",
    "\n",
    "* Estimativas (competência) no Razão\n",
    "\n",
    "* Vendas\n",
    "\n",
    "* Compras\n",
    "\n",
    "* Reembolsos de clientes\n",
    "\n",
    "* Contra lavagem de dinheiro\n",
    "\n",
    "Existe o potencial de detectar lavagem de dinheiro porque a lavagem de dinheiro flui dinheiro para o fluxo de receita que não é gerado comumente pelas empresas. Como o pagamento do imposto de renda sobre a receita falsa não é desejável, as despesas correspondentes são compensadas para compensar a receita falsa. Se houver o suficiente dessas despesas ou números compensados, a Lei de Benford poderá detectar as anomalias."
   ]
  },
  {
   "cell_type": "markdown",
   "metadata": {},
   "source": [
    "O teste do primeiro dígito é um teste de alto nível e é adequado para uso com menos de 300 transações. O teste dos três primeiros dígitos é muito detalhado e resultará na necessidade de investigar muitas anomalias. O teste dos dois primeiros dígitos é o mais prático de usar. Veremos uma aplicação a seguir em um dataset contendo pagamentos."
   ]
  },
  {
   "cell_type": "code",
   "execution_count": 10,
   "metadata": {},
   "outputs": [
    {
     "data": {
      "text/html": [
       "<div>\n",
       "<style scoped>\n",
       "    .dataframe tbody tr th:only-of-type {\n",
       "        vertical-align: middle;\n",
       "    }\n",
       "\n",
       "    .dataframe tbody tr th {\n",
       "        vertical-align: top;\n",
       "    }\n",
       "\n",
       "    .dataframe thead th {\n",
       "        text-align: right;\n",
       "    }\n",
       "</style>\n",
       "<table border=\"1\" class=\"dataframe\">\n",
       "  <thead>\n",
       "    <tr style=\"text-align: right;\">\n",
       "      <th></th>\n",
       "      <th>Vendor_number</th>\n",
       "      <th>Invoice_amount</th>\n",
       "      <th>Invoice_number</th>\n",
       "      <th>Invoice_date</th>\n",
       "      <th>Check_date</th>\n",
       "      <th>Entered_date</th>\n",
       "      <th>Check_number</th>\n",
       "      <th>Po_number</th>\n",
       "    </tr>\n",
       "  </thead>\n",
       "  <tbody>\n",
       "    <tr>\n",
       "      <th>0</th>\n",
       "      <td>1006943</td>\n",
       "      <td>1120.0</td>\n",
       "      <td>4701</td>\n",
       "      <td>2010-06-18</td>\n",
       "      <td>2010-10-23</td>\n",
       "      <td>2010-06-20</td>\n",
       "      <td>315586550</td>\n",
       "      <td>NaN</td>\n",
       "    </tr>\n",
       "    <tr>\n",
       "      <th>1</th>\n",
       "      <td>1006943</td>\n",
       "      <td>328.5</td>\n",
       "      <td>4700</td>\n",
       "      <td>2010-05-31</td>\n",
       "      <td>2010-10-03</td>\n",
       "      <td>2010-06-02</td>\n",
       "      <td>313787904</td>\n",
       "      <td>NaN</td>\n",
       "    </tr>\n",
       "    <tr>\n",
       "      <th>2</th>\n",
       "      <td>1006943</td>\n",
       "      <td>175.0</td>\n",
       "      <td>4699</td>\n",
       "      <td>2010-05-28</td>\n",
       "      <td>2010-10-02</td>\n",
       "      <td>2010-05-30</td>\n",
       "      <td>313653704</td>\n",
       "      <td>NaN</td>\n",
       "    </tr>\n",
       "    <tr>\n",
       "      <th>3</th>\n",
       "      <td>1006943</td>\n",
       "      <td>1200.0</td>\n",
       "      <td>4697</td>\n",
       "      <td>2010-04-30</td>\n",
       "      <td>2010-09-04</td>\n",
       "      <td>2010-05-02</td>\n",
       "      <td>311044246</td>\n",
       "      <td>NaN</td>\n",
       "    </tr>\n",
       "    <tr>\n",
       "      <th>4</th>\n",
       "      <td>1006943</td>\n",
       "      <td>400.0</td>\n",
       "      <td>4694</td>\n",
       "      <td>2010-02-10</td>\n",
       "      <td>2010-06-17</td>\n",
       "      <td>2010-02-12</td>\n",
       "      <td>303223680</td>\n",
       "      <td>NaN</td>\n",
       "    </tr>\n",
       "  </tbody>\n",
       "</table>\n",
       "</div>"
      ],
      "text/plain": [
       "   Vendor_number  Invoice_amount Invoice_number Invoice_date Check_date  \\\n",
       "0        1006943          1120.0           4701   2010-06-18 2010-10-23   \n",
       "1        1006943           328.5           4700   2010-05-31 2010-10-03   \n",
       "2        1006943           175.0           4699   2010-05-28 2010-10-02   \n",
       "3        1006943          1200.0           4697   2010-04-30 2010-09-04   \n",
       "4        1006943           400.0           4694   2010-02-10 2010-06-17   \n",
       "\n",
       "  Entered_date  Check_number  Po_number  \n",
       "0   2010-06-20     315586550        NaN  \n",
       "1   2010-06-02     313787904        NaN  \n",
       "2   2010-05-30     313653704        NaN  \n",
       "3   2010-05-02     311044246        NaN  \n",
       "4   2010-02-12     303223680        NaN  "
      ]
     },
     "execution_count": 10,
     "metadata": {},
     "output_type": "execute_result"
    }
   ],
   "source": [
    "pagamentos = pd.read_excel('PayablesData.xls', sheet_name='Invoices Paid', dtype =({'Invoice_amount':float}))\n",
    "pagamentos.head()"
   ]
  },
  {
   "cell_type": "code",
   "execution_count": 11,
   "metadata": {},
   "outputs": [],
   "source": [
    "pag = pagamentos.Invoice_amount"
   ]
  },
  {
   "cell_type": "code",
   "execution_count": 12,
   "metadata": {},
   "outputs": [
    {
     "name": "stdout",
     "output_type": "stream",
     "text": [
      "Initialized sequence with 4825 registries.\n",
      "\n",
      "Test performed on 4825 registries.\n",
      "Discarded 0 records < 10 after preparation.\n"
     ]
    },
    {
     "data": {
      "image/png": "[encoded data removed]",
      "text/plain": [
       "<Figure size 1296x972 with 1 Axes>"
      ]
     },
     "metadata": {
      "needs_background": "light"
     },
     "output_type": "display_data"
    }
   ],
   "source": [
    "dois_digitos = bf.first_digits(pag, digs= 2)"
   ]
  },
  {
   "cell_type": "markdown",
   "metadata": {},
   "source": [
    "Vemos aqui que existem alguns picos que podemos utilizar para futura investigação."
   ]
  },
  {
   "cell_type": "code",
   "execution_count": 13,
   "metadata": {},
   "outputs": [
    {
     "data": {
      "text/html": [
       "<div>\n",
       "<style scoped>\n",
       "    .dataframe tbody tr th:only-of-type {\n",
       "        vertical-align: middle;\n",
       "    }\n",
       "\n",
       "    .dataframe tbody tr th {\n",
       "        vertical-align: top;\n",
       "    }\n",
       "\n",
       "    .dataframe thead th {\n",
       "        text-align: right;\n",
       "    }\n",
       "</style>\n",
       "<table border=\"1\" class=\"dataframe\">\n",
       "  <thead>\n",
       "    <tr style=\"text-align: right;\">\n",
       "      <th></th>\n",
       "      <th>Counts</th>\n",
       "      <th>Found</th>\n",
       "      <th>Expected</th>\n",
       "    </tr>\n",
       "    <tr>\n",
       "      <th>First_2_Dig</th>\n",
       "      <th></th>\n",
       "      <th></th>\n",
       "      <th></th>\n",
       "    </tr>\n",
       "  </thead>\n",
       "  <tbody>\n",
       "    <tr>\n",
       "      <th>10</th>\n",
       "      <td>211</td>\n",
       "      <td>0.043731</td>\n",
       "      <td>0.041393</td>\n",
       "    </tr>\n",
       "    <tr>\n",
       "      <th>11</th>\n",
       "      <td>181</td>\n",
       "      <td>0.037513</td>\n",
       "      <td>0.037789</td>\n",
       "    </tr>\n",
       "    <tr>\n",
       "      <th>12</th>\n",
       "      <td>185</td>\n",
       "      <td>0.038342</td>\n",
       "      <td>0.034762</td>\n",
       "    </tr>\n",
       "    <tr>\n",
       "      <th>13</th>\n",
       "      <td>118</td>\n",
       "      <td>0.024456</td>\n",
       "      <td>0.032185</td>\n",
       "    </tr>\n",
       "    <tr>\n",
       "      <th>14</th>\n",
       "      <td>111</td>\n",
       "      <td>0.023005</td>\n",
       "      <td>0.029963</td>\n",
       "    </tr>\n",
       "  </tbody>\n",
       "</table>\n",
       "</div>"
      ],
      "text/plain": [
       "             Counts     Found  Expected\n",
       "First_2_Dig                            \n",
       "10              211  0.043731  0.041393\n",
       "11              181  0.037513  0.037789\n",
       "12              185  0.038342  0.034762\n",
       "13              118  0.024456  0.032185\n",
       "14              111  0.023005  0.029963"
      ]
     },
     "execution_count": 13,
     "metadata": {},
     "output_type": "execute_result"
    }
   ],
   "source": [
    "dois_digitos.head()"
   ]
  },
  {
   "cell_type": "code",
   "execution_count": 14,
   "metadata": {},
   "outputs": [
    {
     "data": {
      "text/html": [
       "<div>\n",
       "<style scoped>\n",
       "    .dataframe tbody tr th:only-of-type {\n",
       "        vertical-align: middle;\n",
       "    }\n",
       "\n",
       "    .dataframe tbody tr th {\n",
       "        vertical-align: top;\n",
       "    }\n",
       "\n",
       "    .dataframe thead th {\n",
       "        text-align: right;\n",
       "    }\n",
       "</style>\n",
       "<table border=\"1\" class=\"dataframe\">\n",
       "  <thead>\n",
       "    <tr style=\"text-align: right;\">\n",
       "      <th></th>\n",
       "      <th>Counts</th>\n",
       "      <th>Found</th>\n",
       "      <th>Expected</th>\n",
       "    </tr>\n",
       "    <tr>\n",
       "      <th>First_2_Dig</th>\n",
       "      <th></th>\n",
       "      <th></th>\n",
       "      <th></th>\n",
       "    </tr>\n",
       "  </thead>\n",
       "  <tbody>\n",
       "    <tr>\n",
       "      <th>95</th>\n",
       "      <td>28</td>\n",
       "      <td>0.005803</td>\n",
       "      <td>0.004548</td>\n",
       "    </tr>\n",
       "    <tr>\n",
       "      <th>96</th>\n",
       "      <td>8</td>\n",
       "      <td>0.001658</td>\n",
       "      <td>0.004501</td>\n",
       "    </tr>\n",
       "    <tr>\n",
       "      <th>97</th>\n",
       "      <td>20</td>\n",
       "      <td>0.004145</td>\n",
       "      <td>0.004454</td>\n",
       "    </tr>\n",
       "    <tr>\n",
       "      <th>98</th>\n",
       "      <td>41</td>\n",
       "      <td>0.008497</td>\n",
       "      <td>0.004409</td>\n",
       "    </tr>\n",
       "    <tr>\n",
       "      <th>99</th>\n",
       "      <td>23</td>\n",
       "      <td>0.004767</td>\n",
       "      <td>0.004365</td>\n",
       "    </tr>\n",
       "  </tbody>\n",
       "</table>\n",
       "</div>"
      ],
      "text/plain": [
       "             Counts     Found  Expected\n",
       "First_2_Dig                            \n",
       "95               28  0.005803  0.004548\n",
       "96                8  0.001658  0.004501\n",
       "97               20  0.004145  0.004454\n",
       "98               41  0.008497  0.004409\n",
       "99               23  0.004767  0.004365"
      ]
     },
     "execution_count": 14,
     "metadata": {},
     "output_type": "execute_result"
    }
   ],
   "source": [
    "dois_digitos.tail() # Tail mostra os 5 últimos registros"
   ]
  },
  {
   "cell_type": "markdown",
   "metadata": {},
   "source": [
    "Vamos ver um outro exemplo de análise dos dois primeiros dígitos utilizando um dataset de vendas."
   ]
  },
  {
   "cell_type": "code",
   "execution_count": 15,
   "metadata": {},
   "outputs": [
    {
     "data": {
      "text/html": [
       "<div>\n",
       "<style scoped>\n",
       "    .dataframe tbody tr th:only-of-type {\n",
       "        vertical-align: middle;\n",
       "    }\n",
       "\n",
       "    .dataframe tbody tr th {\n",
       "        vertical-align: top;\n",
       "    }\n",
       "\n",
       "    .dataframe thead th {\n",
       "        text-align: right;\n",
       "    }\n",
       "</style>\n",
       "<table border=\"1\" class=\"dataframe\">\n",
       "  <thead>\n",
       "    <tr style=\"text-align: right;\">\n",
       "      <th></th>\n",
       "      <th>Credit_card</th>\n",
       "      <th>Amount</th>\n",
       "    </tr>\n",
       "  </thead>\n",
       "  <tbody>\n",
       "    <tr>\n",
       "      <th>0</th>\n",
       "      <td>100004720100721AMEX1012125405</td>\n",
       "      <td>431.28</td>\n",
       "    </tr>\n",
       "    <tr>\n",
       "      <th>1</th>\n",
       "      <td>100005420100311AMEX1012125605</td>\n",
       "      <td>377.37</td>\n",
       "    </tr>\n",
       "    <tr>\n",
       "      <th>2</th>\n",
       "      <td>100011520100610VISA1012125705</td>\n",
       "      <td>7241.91</td>\n",
       "    </tr>\n",
       "    <tr>\n",
       "      <th>3</th>\n",
       "      <td>100017120100601AMEX1012127405</td>\n",
       "      <td>1497.50</td>\n",
       "    </tr>\n",
       "    <tr>\n",
       "      <th>4</th>\n",
       "      <td>100019920100321VISA1012128505</td>\n",
       "      <td>2605.65</td>\n",
       "    </tr>\n",
       "  </tbody>\n",
       "</table>\n",
       "</div>"
      ],
      "text/plain": [
       "                     Credit_card   Amount\n",
       "0  100004720100721AMEX1012125405   431.28\n",
       "1  100005420100311AMEX1012125605   377.37\n",
       "2  100011520100610VISA1012125705  7241.91\n",
       "3  100017120100601AMEX1012127405  1497.50\n",
       "4  100019920100321VISA1012128505  2605.65"
      ]
     },
     "execution_count": 15,
     "metadata": {},
     "output_type": "execute_result"
    }
   ],
   "source": [
    "venda = pd.read_csv('sales.txt', delim_whitespace = True,names =['Credit_card','Amount'], dtype = ({'Amount':float}))\n",
    "venda.head()"
   ]
  },
  {
   "cell_type": "code",
   "execution_count": 16,
   "metadata": {},
   "outputs": [],
   "source": [
    "val_vend = venda.Amount"
   ]
  },
  {
   "cell_type": "code",
   "execution_count": 17,
   "metadata": {},
   "outputs": [
    {
     "name": "stdout",
     "output_type": "stream",
     "text": [
      "Initialized sequence with 896 registries.\n",
      "\n",
      "Test performed on 896 registries.\n",
      "Discarded 0 records < 10 after preparation.\n"
     ]
    },
    {
     "data": {
      "image/png": "[encoded data removed]",
      "text/plain": [
       "<Figure size 1296x972 with 1 Axes>"
      ]
     },
     "metadata": {
      "needs_background": "light"
     },
     "output_type": "display_data"
    }
   ],
   "source": [
    "dois_dig_venda = bf.first_digits(val_vend, digs=2)"
   ]
  },
  {
   "cell_type": "code",
   "execution_count": 18,
   "metadata": {},
   "outputs": [
    {
     "data": {
      "text/html": [
       "<div>\n",
       "<style scoped>\n",
       "    .dataframe tbody tr th:only-of-type {\n",
       "        vertical-align: middle;\n",
       "    }\n",
       "\n",
       "    .dataframe tbody tr th {\n",
       "        vertical-align: top;\n",
       "    }\n",
       "\n",
       "    .dataframe thead th {\n",
       "        text-align: right;\n",
       "    }\n",
       "</style>\n",
       "<table border=\"1\" class=\"dataframe\">\n",
       "  <thead>\n",
       "    <tr style=\"text-align: right;\">\n",
       "      <th></th>\n",
       "      <th>Counts</th>\n",
       "      <th>Found</th>\n",
       "      <th>Expected</th>\n",
       "    </tr>\n",
       "    <tr>\n",
       "      <th>First_2_Dig</th>\n",
       "      <th></th>\n",
       "      <th></th>\n",
       "      <th></th>\n",
       "    </tr>\n",
       "  </thead>\n",
       "  <tbody>\n",
       "    <tr>\n",
       "      <th>10</th>\n",
       "      <td>41.0</td>\n",
       "      <td>0.045759</td>\n",
       "      <td>0.041393</td>\n",
       "    </tr>\n",
       "    <tr>\n",
       "      <th>11</th>\n",
       "      <td>53.0</td>\n",
       "      <td>0.059152</td>\n",
       "      <td>0.037789</td>\n",
       "    </tr>\n",
       "    <tr>\n",
       "      <th>12</th>\n",
       "      <td>18.0</td>\n",
       "      <td>0.020089</td>\n",
       "      <td>0.034762</td>\n",
       "    </tr>\n",
       "    <tr>\n",
       "      <th>13</th>\n",
       "      <td>34.0</td>\n",
       "      <td>0.037946</td>\n",
       "      <td>0.032185</td>\n",
       "    </tr>\n",
       "    <tr>\n",
       "      <th>14</th>\n",
       "      <td>30.0</td>\n",
       "      <td>0.033482</td>\n",
       "      <td>0.029963</td>\n",
       "    </tr>\n",
       "  </tbody>\n",
       "</table>\n",
       "</div>"
      ],
      "text/plain": [
       "             Counts     Found  Expected\n",
       "First_2_Dig                            \n",
       "10             41.0  0.045759  0.041393\n",
       "11             53.0  0.059152  0.037789\n",
       "12             18.0  0.020089  0.034762\n",
       "13             34.0  0.037946  0.032185\n",
       "14             30.0  0.033482  0.029963"
      ]
     },
     "execution_count": 18,
     "metadata": {},
     "output_type": "execute_result"
    }
   ],
   "source": [
    "dois_dig_venda.head()"
   ]
  },
  {
   "cell_type": "code",
   "execution_count": 19,
   "metadata": {},
   "outputs": [
    {
     "data": {
      "text/html": [
       "<div>\n",
       "<style scoped>\n",
       "    .dataframe tbody tr th:only-of-type {\n",
       "        vertical-align: middle;\n",
       "    }\n",
       "\n",
       "    .dataframe tbody tr th {\n",
       "        vertical-align: top;\n",
       "    }\n",
       "\n",
       "    .dataframe thead th {\n",
       "        text-align: right;\n",
       "    }\n",
       "</style>\n",
       "<table border=\"1\" class=\"dataframe\">\n",
       "  <thead>\n",
       "    <tr style=\"text-align: right;\">\n",
       "      <th></th>\n",
       "      <th>Counts</th>\n",
       "      <th>Found</th>\n",
       "      <th>Expected</th>\n",
       "    </tr>\n",
       "    <tr>\n",
       "      <th>First_2_Dig</th>\n",
       "      <th></th>\n",
       "      <th></th>\n",
       "      <th></th>\n",
       "    </tr>\n",
       "  </thead>\n",
       "  <tbody>\n",
       "    <tr>\n",
       "      <th>95</th>\n",
       "      <td>3.0</td>\n",
       "      <td>0.003348</td>\n",
       "      <td>0.004548</td>\n",
       "    </tr>\n",
       "    <tr>\n",
       "      <th>96</th>\n",
       "      <td>3.0</td>\n",
       "      <td>0.003348</td>\n",
       "      <td>0.004501</td>\n",
       "    </tr>\n",
       "    <tr>\n",
       "      <th>97</th>\n",
       "      <td>1.0</td>\n",
       "      <td>0.001116</td>\n",
       "      <td>0.004454</td>\n",
       "    </tr>\n",
       "    <tr>\n",
       "      <th>98</th>\n",
       "      <td>3.0</td>\n",
       "      <td>0.003348</td>\n",
       "      <td>0.004409</td>\n",
       "    </tr>\n",
       "    <tr>\n",
       "      <th>99</th>\n",
       "      <td>1.0</td>\n",
       "      <td>0.001116</td>\n",
       "      <td>0.004365</td>\n",
       "    </tr>\n",
       "  </tbody>\n",
       "</table>\n",
       "</div>"
      ],
      "text/plain": [
       "             Counts     Found  Expected\n",
       "First_2_Dig                            \n",
       "95              3.0  0.003348  0.004548\n",
       "96              3.0  0.003348  0.004501\n",
       "97              1.0  0.001116  0.004454\n",
       "98              3.0  0.003348  0.004409\n",
       "99              1.0  0.001116  0.004365"
      ]
     },
     "execution_count": 19,
     "metadata": {},
     "output_type": "execute_result"
    }
   ],
   "source": [
    "dois_dig_venda.tail()"
   ]
  },
  {
   "cell_type": "markdown",
   "metadata": {},
   "source": [
    "Vemos também que há picos que merecem uma investigação mais aprofundada."
   ]
  },
  {
   "cell_type": "markdown",
   "metadata": {},
   "source": [
    "## Teste da soma\n",
    "\n",
    "O teste de soma analisa os dois primeiros dígitos nos dados agrupando os registros dos dois primeiros dígitos e calculando a soma de cada grupo. Montantes com os mesmos dois primeiros dígitos, como 1200, 125, 12, 1234 e assim por diante, são somados. Usando os valores calculados e somados, o processo determina se uma distribuição uniforme é seguida. O teste de soma identifica números excessivamente grandes em comparação com o restante dos dados. O teste é baseado em somas e não em contagens, como nos outros testes da lei de Benford. Em teoria, as somas de números com os mesmos dois primeiros dígitos devem ser iguais em distribuição. No entanto, em conjuntos de dados normais, existem duplicações anormais regulares de grandes números que podem ser causadas por alguns números muito grandes ou um volume alto de números moderadamente grandes. Análises adicionais serão necessárias.\n",
    "Abaixo vemos um exemplo com o mesmo dataset do último exemplo:"
   ]
  },
  {
   "cell_type": "code",
   "execution_count": 20,
   "metadata": {},
   "outputs": [
    {
     "name": "stdout",
     "output_type": "stream",
     "text": [
      "Initialized sequence with 896 registries.\n",
      "\n",
      "Test performed on 896 registries.\n",
      "\n",
      "The top 20 diferences are:\n",
      "\n",
      "          Sum   Percent    AbsDif\n",
      "F2D                              \n",
      "10    7037955  0.010983  0.000128\n",
      "11    8324424  0.012990  0.001879\n",
      "12    5380655  0.008397  0.002714\n",
      "13   22909532  0.035751  0.024640\n",
      "14    9037351  0.014103  0.002992\n",
      "15    5632194  0.008789  0.002322\n",
      "16    3909630  0.006101  0.005010\n",
      "17    8303152  0.012957  0.001846\n",
      "18    4488392  0.007004  0.004107\n",
      "19    5741415  0.008960  0.002152\n",
      "20    6980278  0.010893  0.000218\n",
      "21    8003121  0.012489  0.001378\n",
      "22   10573061  0.016499  0.005388\n",
      "23    9272272  0.014470  0.003358\n",
      "24    1026592  0.001602  0.009509\n",
      "25    2194734  0.003425  0.007686\n",
      "26    2284718  0.003565  0.007546\n",
      "27    4195744  0.006548  0.004564\n",
      "28   10457529  0.016319  0.005208\n",
      "29    2403787  0.003751  0.007360\n"
     ]
    },
    {
     "data": {
      "image/png": "[encoded data removed]",
      "text/plain": [
       "<Figure size 1296x972 with 1 Axes>"
      ]
     },
     "metadata": {
      "needs_background": "light"
     },
     "output_type": "display_data"
    }
   ],
   "source": [
    "teste_soma = bf.summation(val_vend)"
   ]
  },
  {
   "cell_type": "markdown",
   "metadata": {},
   "source": [
    "Vemos aqui que o numero 35 tem um pico elevado, nesse caso, uma investigação mais aprofundada dos números constantes desse intervalo deve ser feita."
   ]
  },
  {
   "cell_type": "markdown",
   "metadata": {},
   "source": [
    "## Teste da segunda ordem\n",
    "\n",
    "O teste de segunda ordem também é baseado nos dois primeiros dígitos dos dados. Os dados são classificados do menor para o maior e as diferenças entre cada par de registros consecutivos são verificadas para determinar se estão em conformidade com as expectativas da primeira distribuição de dois dígitos. Espera-se que números de dezenas iguais - 10, 20, 30, 40, 50, 60, 70, 80 e 90 - estejam em conformidade com a distribuição da Lei de Benford e que o restante dos números por conta própria também esteja em conformidade . Para isso vamos utilizar o dataset de pagamentos."
   ]
  },
  {
   "cell_type": "code",
   "execution_count": 21,
   "metadata": {},
   "outputs": [
    {
     "name": "stdout",
     "output_type": "stream",
     "text": [
      "Initialized sequence with 4825 registries.\n",
      "Second Order Test. Initial series reduced to 3327 entries.\n",
      "\n",
      "Test performed on 3327 registries.\n",
      "Discarded 3049 records < 1000 after preparation\n",
      "\n",
      "The Mean Absolute Deviation is 0.00526560569726037\n"
     ]
    },
    {
     "name": "stderr",
     "output_type": "stream",
     "text": [
      "C:\\Users\\CWILLIAN\\AppData\\Local\\Continuum\\anaconda3\\lib\\site-packages\\benford\\benford.py:471: SettingWithCopyWarning: \n",
      "A value is trying to be set on a copy of a slice from a DataFrame.\n",
      "Try using .loc[row_indexer,col_indexer] = value instead\n",
      "\n",
      "See the caveats in the documentation: http://pandas.pydata.org/pandas-docs/stable/indexing.html#indexing-view-versus-copy\n",
      "  temp['L2D'] = temp.ZN % 100\n"
     ]
    },
    {
     "data": {
      "image/png": "[encoded data removed]",
      "text/plain": [
       "<Figure size 1080x576 with 1 Axes>"
      ]
     },
     "metadata": {
      "needs_background": "light"
     },
     "output_type": "display_data"
    }
   ],
   "source": [
    "segunda_ordem = bf.second_order(pag,test= 'L2D', MAD = True)"
   ]
  },
  {
   "cell_type": "markdown",
   "metadata": {},
   "source": [
    "## Teste dos dois últimos dígitos\n",
    "\n",
    "O teste dos dois últimos dígitos agrupa os dois últimos dígitos e calcula a frequência. A frequência agrupada é comparada com a distribuição uniforme esperada. No arquivo de pagamentos que veremos abaixo, os números que terminam em .00 excedem significativamente a distribuição esperada, mas foram considerados normais com base em seus pagamentos reais."
   ]
  },
  {
   "cell_type": "code",
   "execution_count": 22,
   "metadata": {},
   "outputs": [
    {
     "name": "stdout",
     "output_type": "stream",
     "text": [
      "Initialized sequence with 4825 registries.\n",
      "\n",
      "Test performed on 4825 registries.\n",
      "Discarded 659 records < 1000 after preparation\n",
      "\n",
      "The entries with the significant positive deviations are:\n",
      "\n",
      "            Expected     Found     Z_score\n",
      "Last_2_Dig                                \n",
      "0           0.010101  0.235958  145.708205\n",
      "50          0.010101  0.050408   25.939868\n",
      "75          0.010101  0.031205   13.544698\n",
      "25          0.010101  0.024244    9.051448\n",
      "42          0.010101  0.019203    5.797716\n",
      "80          0.010101  0.018003    5.023018\n",
      "60          0.010101  0.016803    4.248320\n",
      "20          0.010101  0.014162    2.543984\n",
      "40          0.010101  0.013442    2.079165\n"
     ]
    },
    {
     "name": "stderr",
     "output_type": "stream",
     "text": [
      "C:\\Users\\CWILLIAN\\AppData\\Local\\Continuum\\anaconda3\\lib\\site-packages\\benford\\benford.py:471: SettingWithCopyWarning: \n",
      "A value is trying to be set on a copy of a slice from a DataFrame.\n",
      "Try using .loc[row_indexer,col_indexer] = value instead\n",
      "\n",
      "See the caveats in the documentation: http://pandas.pydata.org/pandas-docs/stable/indexing.html#indexing-view-versus-copy\n",
      "  temp['L2D'] = temp.ZN % 100\n"
     ]
    },
    {
     "data": {
      "image/png": "[encoded data removed]",
      "text/plain": [
       "<Figure size 1080x576 with 1 Axes>"
      ]
     },
     "metadata": {
      "needs_background": "light"
     },
     "output_type": "display_data"
    }
   ],
   "source": [
    "dois_ultimos_dig = bf.last_two_digits(pag, confidence= 95)"
   ]
  },
  {
   "cell_type": "markdown",
   "metadata": {},
   "source": [
    "Há outros testes que poderíamos realizar aqui, como o teste do 'segundo dígito', o teste dos 'três primeiros dígitos' e modificarmos alguns parâmetros como por exemplo o intervalo de confiança (que é a margem de incerteza (ou imprecisão) frente a um cálculo efetuado) e algumas outras métricas estatísticas que o pacote disponibiliza."
   ]
  },
  {
   "cell_type": "markdown",
   "metadata": {},
   "source": [
    "O auditor deve ter em mente que existem custos associados a falsos positivos (identificando uma condição de fraude quando nenhuma está presente), bem como a falsos negativos (falhando em identificar uma condição de fraude quando existe). O auditor deve considerar o nível de significância a ser selecionado para investigação adicional. Um saldo deve ser encontrado para que não se investigue muitas ou poucas transações.\n",
    "\n",
    "Existem categorias de fraude que não podem ser detectadas? Como a Lei de Benford detecta duplicações excessivas ou números inventados, não é apropriado para detectar exclusões. Se as transações fossem excluídas aleatoriamente das vendas, digamos de um sistema de ponto de vendas, a aleatoriedade garantiria que não houvesse variação na distribuição esperada do conjunto de dados original antes de qualquer exclusão."
   ]
  },
  {
   "cell_type": "markdown",
   "metadata": {},
   "source": [
    "# Conclusão\n",
    "\n",
    "A análise de Benford, quando usada corretamente, é uma ferramenta poderosa para identificar contas ou valores suspeitos para análises adicionais.\n",
    "\n",
    "A análise de Benford é uma ferramenta adicional que tem como intuito complementar os testes. Os usuários precisam adquirir experiência na interpretação de resultados.\n",
    "\n",
    "A lei de Benford é uma ferramenta maravilhosa para a avaliação inicial de riscos do conteúdo de um conjunto de dados. Ele fornece ao auditor ou investigador um bom ponto de partida. O usuário deve entender os negócios e o setor para usar efetivamente essa ferramenta. O conhecimento dos negócios pode eliminar rapidamente os falsos positivos e evitar esforços desnecessários."
   ]
  }
 ],
 "metadata": {
  "kernelspec": {
   "display_name": "Python 3",
   "language": "python",
   "name": "python3"
  },
  "language_info": {
   "codemirror_mode": {
    "name": "ipython",
    "version": 3
   },
   "file_extension": ".py",
   "mimetype": "text/x-python",
   "name": "python",
   "nbconvert_exporter": "python",
   "pygments_lexer": "ipython3",
   "version": "3.7.3"
  }
 },
 "nbformat": 4,
 "nbformat_minor": 2
}
