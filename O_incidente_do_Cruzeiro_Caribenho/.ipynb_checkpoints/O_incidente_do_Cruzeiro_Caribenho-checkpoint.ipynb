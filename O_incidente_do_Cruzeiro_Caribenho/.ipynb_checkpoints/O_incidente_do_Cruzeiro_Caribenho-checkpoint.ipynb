{
 "cells": [
  {
   "cell_type": "markdown",
   "metadata": {},
   "source": [
    "# O incidente do Cruzeiro Caribenho"
   ]
  },
  {
   "cell_type": "markdown",
   "metadata": {},
   "source": [
    "Você recebeu uma dica anônima de que um funcionário do grupo de compras de óleos industriais esteve em um cruzeiro pelo Caribe pela terceira vez nos últimos dois anos. Como gastar além dos recursos é uma *red flag*, você inicia uma investigação.\n",
    "\n",
    "Você solicitou uma cópia dos dados do sistema SAP. Você se concentra nos **pedidos**. Analise os dados para entender a irregularidade.\n",
    "\n",
    "**Você pode estabelecer evidências suficientes?**"
   ]
  },
  {
   "cell_type": "markdown",
   "metadata": {
    "ExecuteTime": {
     "end_time": "2018-04-26T22:50:25.650751Z",
     "start_time": "2018-04-26T22:50:25.644938Z"
    }
   },
   "source": [
    "## Configuração"
   ]
  },
  {
   "cell_type": "markdown",
   "metadata": {
    "ExecuteTime": {
     "end_time": "2018-04-20T18:28:35.627732Z",
     "start_time": "2018-04-20T18:28:35.612855Z"
    }
   },
   "source": [
    "Algumas inicializações para facilitar"
   ]
  },
  {
   "cell_type": "code",
   "execution_count": 1,
   "metadata": {
    "ExecuteTime": {
     "end_time": "2018-05-04T06:45:57.059671Z",
     "start_time": "2018-05-04T06:45:56.402362Z"
    }
   },
   "outputs": [],
   "source": [
    "# Permite multiplas saídas para cada célula\n",
    "from IPython.core.interactiveshell import InteractiveShell\n",
    "InteractiveShell.ast_node_interactivity = 'all'\n",
    "# Mostrar gráficos \n",
    "import matplotlib.pyplot as plt\n",
    "import seaborn as sns\n",
    "# Bibliotecas para manipulação dos dados\n",
    "import pandas as pd\n",
    "import numpy as np\n",
    "# Formatar número sem decimais\n",
    "pd.set_option('display.float_format', lambda x: '%.4f' % x)\n",
    "\n",
    "# Para mostrar os gráficos dentro do notebook\n",
    "%matplotlib inline "
   ]
  },
  {
   "cell_type": "markdown",
   "metadata": {},
   "source": [
    "Usamos as seguintes bibliotecas:\n",
    "* [Pandas](https://pandas.pydata.org) é o pacote mais importante na análise de dados.\n",
    "* [Numpy](https://www.numpy.org) usada principalmente para realizar cálculos em Arrays Multidimensionais\n",
    "* [Matplotlib](https://matplotlib.org/) O Matplotlib é uma biblioteca de plotagem para a linguagem de programação Python e sua extensão de matemática numérica NumPy.\n",
    "* [Seaborn](https://seaborn.pydata.org/) O Seaborn é uma biblioteca de visualização de dados Python baseada no matplotlib. Ele fornece uma interface de alto nível para desenhar gráficos estatísticos atraentes e informativos."
   ]
  },
  {
   "cell_type": "markdown",
   "metadata": {},
   "source": [
    "Você recebeu três tabelas do sistema SAP que contêm todas as informações da etapa `pedido de compra`:\n",
    "\n",
    "1. As informações do cabeçalho dos pedidos são armazenadas na tabela `EKKO`.\n",
    "\n",
    "2. Os itens dos documentos de compra são armazenados na tabela `EKPO`.\n",
    "\n",
    "3. Os conjuntos de condições aplicáveis associadas aos pedidos de compra estão armazenados na tabela `KONV`."
   ]
  },
  {
   "cell_type": "code",
   "execution_count": 2,
   "metadata": {
    "ExecuteTime": {
     "end_time": "2018-05-04T06:45:58.571412Z",
     "start_time": "2018-05-04T06:45:57.895652Z"
    }
   },
   "outputs": [],
   "source": [
    "ekko = pd.read_csv('EKKO.csv')\n",
    "ekpo = pd.read_csv('EKPO.csv')\n",
    "konv = pd.read_csv('KONV.csv')"
   ]
  },
  {
   "cell_type": "markdown",
   "metadata": {},
   "source": [
    "As tabelas possuem um grande número de colunas."
   ]
  },
  {
   "cell_type": "markdown",
   "metadata": {
    "ExecuteTime": {
     "end_time": "2018-04-26T22:52:57.969779Z",
     "start_time": "2018-04-26T22:52:57.965164Z"
    }
   },
   "source": [
    "## Entendendo os dados"
   ]
  },
  {
   "cell_type": "markdown",
   "metadata": {},
   "source": [
    "Você pode encontrar a definição de todas as colunas no sistema SAP usando o código de transação `SE16`.\n",
    "\n",
    "Vamos ver o nome das colunas das 3 tabelas:"
   ]
  },
  {
   "cell_type": "code",
   "execution_count": 3,
   "metadata": {
    "ExecuteTime": {
     "end_time": "2018-05-04T06:45:58.595033Z",
     "start_time": "2018-05-04T06:45:58.574727Z"
    }
   },
   "outputs": [
    {
     "data": {
      "text/plain": [
       "Index(['MANDT', 'EBELN', 'BUKRS', 'BSTYP', 'BSART', 'BSAKZ', 'LOEKZ', 'STATU',\n",
       "       'AEDAT', 'ERNAM',\n",
       "       ...\n",
       "       'OTB_RES_VALUE', 'OTB_SPEC_VALUE', 'SPR_RSN_PROFILE', 'BUDG_TYPE',\n",
       "       'OTB_STATUS', 'OTB_REASON', 'CHECK_TYPE', 'CON_OTB_REQ',\n",
       "       'CON_PREBOOK_LEV', 'CON_DISTR_LEV'],\n",
       "      dtype='object', length=137)"
      ]
     },
     "execution_count": 3,
     "metadata": {},
     "output_type": "execute_result"
    },
    {
     "data": {
      "text/plain": [
       "Index(['MANDT', 'EBELN', 'EBELP', 'LOEKZ', 'STATU', 'AEDAT', 'TXZ01', 'MATNR',\n",
       "       'EMATN', 'BUKRS',\n",
       "       ...\n",
       "       'FSH_SS', 'FSH_GRID_COND_REC', 'FSH_PSM_PFM_SPLIT', 'CNFM_QTY',\n",
       "       'REF_ITEM', 'SOURCE_ID', 'SOURCE_KEY', 'PUT_BACK', 'POL_ID',\n",
       "       'CONS_ORDER'],\n",
       "      dtype='object', length=300)"
      ]
     },
     "execution_count": 3,
     "metadata": {},
     "output_type": "execute_result"
    },
    {
     "data": {
      "text/plain": [
       "Index(['MANDT', 'KNUMV', 'KPOSN', 'STUNR', 'ZAEHK', 'KAPPL', 'KSCHL', 'KDATU',\n",
       "       'KRECH', 'KAWRT', 'KBETR', 'WAERS', 'KKURS', 'KPEIN', 'KMEIN', 'KUMZA',\n",
       "       'KUMNE', 'KNTYP', 'KSTAT', 'KNPRS', 'KRUEK', 'KRELI', 'KHERK', 'KGRPE',\n",
       "       'KOUPD', 'KOLNR', 'KNUMH', 'KOPOS', 'KVSL1', 'SAKN1', 'MWSK1', 'KVSL2',\n",
       "       'SAKN2', 'MWSK2', 'LIFNR', 'KUNNR', 'KDIFF', 'KWERT', 'KSTEU', 'KINAK',\n",
       "       'KOAID', 'ZAEKO', 'KMXAW', 'KMXWR', 'KFAKTOR', 'KDUPL', 'KFAKTOR1',\n",
       "       'KZBZG', 'KSTBS', 'KONMS', 'KONWS', 'KAWRT_K', 'KWAEH', 'KWERT_K',\n",
       "       'KFKIV', 'KVARC', 'KMPRS', 'PRSQU', 'VARCOND', 'STUFE', 'WEGXX',\n",
       "       'KTREL', 'MDFLG', 'TXJLV', 'KBFLAG', 'KOLNR3', 'CPF_GUID', 'KAQTY'],\n",
       "      dtype='object')"
      ]
     },
     "execution_count": 3,
     "metadata": {},
     "output_type": "execute_result"
    }
   ],
   "source": [
    "ekko.columns\n",
    "ekpo.columns\n",
    "konv.columns"
   ]
  },
  {
   "cell_type": "code",
   "execution_count": 4,
   "metadata": {},
   "outputs": [
    {
     "name": "stdout",
     "output_type": "stream",
     "text": [
      "A Tabela ekko contém 567 linhas e 137 colunas\n",
      "A Tabela ekpo contém 522 linhas e 300 colunas\n",
      "A Tabela konv contém 3058 linhas e 68 colunas\n"
     ]
    }
   ],
   "source": [
    "# Mostrando a quantidade de linhas e colunas dos datasets\n",
    "print('A Tabela ekko contém {} linhas e {} colunas'.format(ekko.shape[0],ekko.shape[1]))\n",
    "print('A Tabela ekpo contém {} linhas e {} colunas'.format(ekpo.shape[0],ekpo.shape[1]))\n",
    "print('A Tabela konv contém {} linhas e {} colunas'.format(konv.shape[0],konv.shape[1]))"
   ]
  },
  {
   "cell_type": "markdown",
   "metadata": {
    "ExecuteTime": {
     "end_time": "2018-04-26T22:55:41.657326Z",
     "start_time": "2018-04-26T22:55:41.652350Z"
    }
   },
   "source": [
    "### A tabela EKKO "
   ]
  },
  {
   "cell_type": "markdown",
   "metadata": {},
   "source": [
    "Para nossos propósitos, usaremos as seguintes colunas da tabela `EKKO`:\n",
    "\n",
    "* `EBELN` - Contém o número do pedido de compra.\n",
    "\n",
    "* `ERNAM` - Contém o funcionário do grupo de compras que autorizou o pedido.\n",
    "\n",
    "* `LIFNR` - Contém o identificador exclusivo do fornecedor que recebeu o pedido.\n",
    "\n",
    "* `KNUMV` - Contém o link para o conjunto de condições associadas ao pedido de compra."
   ]
  },
  {
   "cell_type": "markdown",
   "metadata": {
    "ExecuteTime": {
     "end_time": "2018-05-04T04:05:15.603045Z",
     "start_time": "2018-05-04T04:05:15.597775Z"
    }
   },
   "source": [
    "### A tabela EKPO "
   ]
  },
  {
   "cell_type": "markdown",
   "metadata": {
    "ExecuteTime": {
     "end_time": "2018-05-04T04:10:17.248578Z",
     "start_time": "2018-05-04T04:10:17.235321Z"
    }
   },
   "source": [
    "Para nossos propósitos, usaremos as seguintes colunas da tabela `EKPO`:\n",
    "\n",
    "* `EBELN` - Contém o número do pedido de compra.\n",
    "\n",
    "* `EBELP` - contém o identificador do item de linha.\n",
    "\n",
    "* `TXZ01` - Contém uma descrição textual do material.\n",
    "\n",
    "* `MATNR` - Contém o identificador exclusivo do material.\n",
    "\n",
    "* `MENGE` - Contém a quantidade de material solicitado.\n",
    "\n",
    "* `NETPR` - Contém o preço líquido efetivo do material pedido.\n",
    "\n",
    "* `NETWR` - Contém o valor líquido efetivo do material pedido (ou seja,` MENGE * NETPR`)."
   ]
  },
  {
   "cell_type": "markdown",
   "metadata": {},
   "source": [
    "### A tabela KONV"
   ]
  },
  {
   "cell_type": "markdown",
   "metadata": {},
   "source": [
    "Para nossos propósitos, usaremos as seguintes colunas da tabela `KONV`:\n",
    "\n",
    "* `KNUMV` - Contém o identificador exclusivo para o conjunto de condições.\n",
    "\n",
    "* `KPOSN` - Contém o identificador do item de linha.\n",
    "\n",
    "* `KSCHL` - Contém o tipo de uma condição.\n",
    "\n",
    "* `KAWRT` - Contém o valor base que o sistema usa para calcular o preço da condição.\n",
    "\n",
    "* `KBETR` - Contém o preço efetivo."
   ]
  },
  {
   "cell_type": "markdown",
   "metadata": {},
   "source": [
    "Os seguintes tipos de condição são relevantes para este estudo de caso:\n",
    "\n",
    "* `PBXX` - Preço bruto\n",
    "\n",
    "* `RB00` - Descontos absolutos\n",
    "\n",
    "* `NAVM` - deduções fiscais\n",
    "\n",
    "* `SKTO` - descontos à vista relacionados às metas de pagamento\n",
    "\n",
    "* `WOTB` - Preço efetivo\n",
    "\n",
    "A variável a seguir contém todos os tipos de condições relevantes."
   ]
  },
  {
   "cell_type": "code",
   "execution_count": 5,
   "metadata": {
    "ExecuteTime": {
     "end_time": "2018-05-04T06:45:58.604350Z",
     "start_time": "2018-05-04T06:45:58.599657Z"
    }
   },
   "outputs": [],
   "source": [
    "tipo_cond = ['NAVM','PBXX','RB00','SKTO','WOTB']"
   ]
  },
  {
   "cell_type": "markdown",
   "metadata": {
    "ExecuteTime": {
     "end_time": "2018-05-04T04:27:15.987078Z",
     "start_time": "2018-05-04T04:27:15.983309Z"
    }
   },
   "source": [
    "## Limpar os dados"
   ]
  },
  {
   "cell_type": "markdown",
   "metadata": {
    "ExecuteTime": {
     "end_time": "2018-04-26T22:54:20.318069Z",
     "start_time": "2018-04-26T22:54:20.299872Z"
    }
   },
   "source": [
    "Reduziremos a tabela`EKKO` para as colunas do nosso interesse. "
   ]
  },
  {
   "cell_type": "code",
   "execution_count": 6,
   "metadata": {
    "ExecuteTime": {
     "end_time": "2018-05-04T06:45:58.627173Z",
     "start_time": "2018-05-04T06:45:58.611500Z"
    }
   },
   "outputs": [],
   "source": [
    "ekko = ekko.loc[:, ['EBELN','ERNAM','LIFNR','KNUMV']]"
   ]
  },
  {
   "cell_type": "markdown",
   "metadata": {},
   "source": [
    "As 5 primeiras linhas da tabela `ekko`."
   ]
  },
  {
   "cell_type": "code",
   "execution_count": 7,
   "metadata": {
    "ExecuteTime": {
     "end_time": "2018-05-04T06:45:58.662878Z",
     "start_time": "2018-05-04T06:45:58.636312Z"
    }
   },
   "outputs": [
    {
     "data": {
      "text/html": [
       "<div>\n",
       "<style scoped>\n",
       "    .dataframe tbody tr th:only-of-type {\n",
       "        vertical-align: middle;\n",
       "    }\n",
       "\n",
       "    .dataframe tbody tr th {\n",
       "        vertical-align: top;\n",
       "    }\n",
       "\n",
       "    .dataframe thead th {\n",
       "        text-align: right;\n",
       "    }\n",
       "</style>\n",
       "<table border=\"1\" class=\"dataframe\">\n",
       "  <thead>\n",
       "    <tr style=\"text-align: right;\">\n",
       "      <th></th>\n",
       "      <th>EBELN</th>\n",
       "      <th>ERNAM</th>\n",
       "      <th>LIFNR</th>\n",
       "      <th>KNUMV</th>\n",
       "    </tr>\n",
       "  </thead>\n",
       "  <tbody>\n",
       "    <tr>\n",
       "      <th>0</th>\n",
       "      <td>4500000000.0000</td>\n",
       "      <td>COCCHI</td>\n",
       "      <td>101999.0000</td>\n",
       "      <td>1000000000.0000</td>\n",
       "    </tr>\n",
       "    <tr>\n",
       "      <th>1</th>\n",
       "      <td>4500000001.0000</td>\n",
       "      <td>GBI-085</td>\n",
       "      <td>125000.0000</td>\n",
       "      <td>1000000020.0000</td>\n",
       "    </tr>\n",
       "    <tr>\n",
       "      <th>2</th>\n",
       "      <td>4500000002.0000</td>\n",
       "      <td>GBI-085</td>\n",
       "      <td>125000.0000</td>\n",
       "      <td>1000000021.0000</td>\n",
       "    </tr>\n",
       "    <tr>\n",
       "      <th>3</th>\n",
       "      <td>4500000003.0000</td>\n",
       "      <td>GBI-085</td>\n",
       "      <td>125000.0000</td>\n",
       "      <td>1000000022.0000</td>\n",
       "    </tr>\n",
       "    <tr>\n",
       "      <th>4</th>\n",
       "      <td>4500000004.0000</td>\n",
       "      <td>GBIFAC-01</td>\n",
       "      <td>125000.0000</td>\n",
       "      <td>1000000023.0000</td>\n",
       "    </tr>\n",
       "  </tbody>\n",
       "</table>\n",
       "</div>"
      ],
      "text/plain": [
       "            EBELN      ERNAM       LIFNR           KNUMV\n",
       "0 4500000000.0000     COCCHI 101999.0000 1000000000.0000\n",
       "1 4500000001.0000    GBI-085 125000.0000 1000000020.0000\n",
       "2 4500000002.0000    GBI-085 125000.0000 1000000021.0000\n",
       "3 4500000003.0000    GBI-085 125000.0000 1000000022.0000\n",
       "4 4500000004.0000  GBIFAC-01 125000.0000 1000000023.0000"
      ]
     },
     "execution_count": 7,
     "metadata": {},
     "output_type": "execute_result"
    }
   ],
   "source": [
    "ekko.head()"
   ]
  },
  {
   "cell_type": "markdown",
   "metadata": {
    "ExecuteTime": {
     "end_time": "2018-04-26T22:54:20.318069Z",
     "start_time": "2018-04-26T22:54:20.299872Z"
    }
   },
   "source": [
    "Reduziremos a tabela `EKPO` para as colunas do nosso interesse. "
   ]
  },
  {
   "cell_type": "code",
   "execution_count": 9,
   "metadata": {
    "ExecuteTime": {
     "end_time": "2018-05-04T06:45:58.679871Z",
     "start_time": "2018-05-04T06:45:58.668249Z"
    }
   },
   "outputs": [],
   "source": [
    "ekpo = ekpo.loc[:, ['EBELN','EBELP','TXZ01','MATNR','MENGE', 'NETPR', 'NETWR']]"
   ]
  },
  {
   "cell_type": "markdown",
   "metadata": {},
   "source": [
    "As 5 primeiras linhas da tabela `ekpo`."
   ]
  },
  {
   "cell_type": "code",
   "execution_count": 10,
   "metadata": {
    "ExecuteTime": {
     "end_time": "2018-05-04T06:45:58.705955Z",
     "start_time": "2018-05-04T06:45:58.684788Z"
    }
   },
   "outputs": [
    {
     "data": {
      "text/html": [
       "<div>\n",
       "<style scoped>\n",
       "    .dataframe tbody tr th:only-of-type {\n",
       "        vertical-align: middle;\n",
       "    }\n",
       "\n",
       "    .dataframe tbody tr th {\n",
       "        vertical-align: top;\n",
       "    }\n",
       "\n",
       "    .dataframe thead th {\n",
       "        text-align: right;\n",
       "    }\n",
       "</style>\n",
       "<table border=\"1\" class=\"dataframe\">\n",
       "  <thead>\n",
       "    <tr style=\"text-align: right;\">\n",
       "      <th></th>\n",
       "      <th>EBELN</th>\n",
       "      <th>EBELP</th>\n",
       "      <th>TXZ01</th>\n",
       "      <th>MATNR</th>\n",
       "      <th>MENGE</th>\n",
       "      <th>NETPR</th>\n",
       "      <th>NETWR</th>\n",
       "    </tr>\n",
       "  </thead>\n",
       "  <tbody>\n",
       "    <tr>\n",
       "      <th>0</th>\n",
       "      <td>4500000000</td>\n",
       "      <td>10</td>\n",
       "      <td>Off Road Helmet</td>\n",
       "      <td>OHMT1999</td>\n",
       "      <td>19689</td>\n",
       "      <td>25.0000</td>\n",
       "      <td>1500.0000</td>\n",
       "    </tr>\n",
       "    <tr>\n",
       "      <th>1</th>\n",
       "      <td>4500000000</td>\n",
       "      <td>20</td>\n",
       "      <td>Road Helmet</td>\n",
       "      <td>RHMT1999</td>\n",
       "      <td>150</td>\n",
       "      <td>25.0000</td>\n",
       "      <td>3750.0000</td>\n",
       "    </tr>\n",
       "    <tr>\n",
       "      <th>2</th>\n",
       "      <td>4500000001</td>\n",
       "      <td>10</td>\n",
       "      <td>Brent Crude Oil</td>\n",
       "      <td>BRENTCRUDE</td>\n",
       "      <td>20193</td>\n",
       "      <td>4335.0000</td>\n",
       "      <td>87536655.0000</td>\n",
       "    </tr>\n",
       "    <tr>\n",
       "      <th>3</th>\n",
       "      <td>4500000002</td>\n",
       "      <td>10</td>\n",
       "      <td>Brent Crude Oil</td>\n",
       "      <td>BRENTCRUDE</td>\n",
       "      <td>20103</td>\n",
       "      <td>4360.0000</td>\n",
       "      <td>87649080.0000</td>\n",
       "    </tr>\n",
       "    <tr>\n",
       "      <th>4</th>\n",
       "      <td>4500000003</td>\n",
       "      <td>10</td>\n",
       "      <td>Brent Crude Oil</td>\n",
       "      <td>BRENTCRUDE</td>\n",
       "      <td>20013</td>\n",
       "      <td>4340.0000</td>\n",
       "      <td>86856420.0000</td>\n",
       "    </tr>\n",
       "  </tbody>\n",
       "</table>\n",
       "</div>"
      ],
      "text/plain": [
       "        EBELN  EBELP            TXZ01       MATNR  MENGE     NETPR  \\\n",
       "0  4500000000     10  Off Road Helmet    OHMT1999  19689   25.0000   \n",
       "1  4500000000     20      Road Helmet    RHMT1999    150   25.0000   \n",
       "2  4500000001     10  Brent Crude Oil  BRENTCRUDE  20193 4335.0000   \n",
       "3  4500000002     10  Brent Crude Oil  BRENTCRUDE  20103 4360.0000   \n",
       "4  4500000003     10  Brent Crude Oil  BRENTCRUDE  20013 4340.0000   \n",
       "\n",
       "          NETWR  \n",
       "0     1500.0000  \n",
       "1     3750.0000  \n",
       "2 87536655.0000  \n",
       "3 87649080.0000  \n",
       "4 86856420.0000  "
      ]
     },
     "execution_count": 10,
     "metadata": {},
     "output_type": "execute_result"
    }
   ],
   "source": [
    "ekpo.head()"
   ]
  },
  {
   "cell_type": "markdown",
   "metadata": {
    "ExecuteTime": {
     "end_time": "2018-05-04T04:20:41.861876Z",
     "start_time": "2018-05-04T04:20:41.849690Z"
    }
   },
   "source": [
    "Reduziremos a tabela `KONV` para as colunas do nosso interesse. "
   ]
  },
  {
   "cell_type": "code",
   "execution_count": 11,
   "metadata": {
    "ExecuteTime": {
     "end_time": "2018-05-04T06:45:58.717576Z",
     "start_time": "2018-05-04T06:45:58.708797Z"
    }
   },
   "outputs": [],
   "source": [
    "konv = konv.loc[:, ['KNUMV','KPOSN','KSCHL','KAWRT', 'KBETR']]"
   ]
  },
  {
   "cell_type": "markdown",
   "metadata": {},
   "source": [
    "As 5 primeiras linhas da tabela `konv`."
   ]
  },
  {
   "cell_type": "code",
   "execution_count": 12,
   "metadata": {
    "ExecuteTime": {
     "end_time": "2018-05-04T06:45:58.742669Z",
     "start_time": "2018-05-04T06:45:58.721104Z"
    }
   },
   "outputs": [
    {
     "data": {
      "text/html": [
       "<div>\n",
       "<style scoped>\n",
       "    .dataframe tbody tr th:only-of-type {\n",
       "        vertical-align: middle;\n",
       "    }\n",
       "\n",
       "    .dataframe tbody tr th {\n",
       "        vertical-align: top;\n",
       "    }\n",
       "\n",
       "    .dataframe thead th {\n",
       "        text-align: right;\n",
       "    }\n",
       "</style>\n",
       "<table border=\"1\" class=\"dataframe\">\n",
       "  <thead>\n",
       "    <tr style=\"text-align: right;\">\n",
       "      <th></th>\n",
       "      <th>KNUMV</th>\n",
       "      <th>KPOSN</th>\n",
       "      <th>KSCHL</th>\n",
       "      <th>KAWRT</th>\n",
       "      <th>KBETR</th>\n",
       "    </tr>\n",
       "  </thead>\n",
       "  <tbody>\n",
       "    <tr>\n",
       "      <th>0</th>\n",
       "      <td>1</td>\n",
       "      <td>10</td>\n",
       "      <td>PR00</td>\n",
       "      <td>20.0000</td>\n",
       "      <td>3000.0000</td>\n",
       "    </tr>\n",
       "    <tr>\n",
       "      <th>1</th>\n",
       "      <td>1</td>\n",
       "      <td>10</td>\n",
       "      <td>SKTO</td>\n",
       "      <td>6000.0000</td>\n",
       "      <td>0.0000</td>\n",
       "    </tr>\n",
       "    <tr>\n",
       "      <th>2</th>\n",
       "      <td>1</td>\n",
       "      <td>10</td>\n",
       "      <td>VPRS</td>\n",
       "      <td>20.0000</td>\n",
       "      <td>1400.0000</td>\n",
       "    </tr>\n",
       "    <tr>\n",
       "      <th>3</th>\n",
       "      <td>2</td>\n",
       "      <td>10</td>\n",
       "      <td>PR00</td>\n",
       "      <td>50.0000</td>\n",
       "      <td>3000.0000</td>\n",
       "    </tr>\n",
       "    <tr>\n",
       "      <th>4</th>\n",
       "      <td>2</td>\n",
       "      <td>10</td>\n",
       "      <td>SKTO</td>\n",
       "      <td>15000.0000</td>\n",
       "      <td>0.0000</td>\n",
       "    </tr>\n",
       "  </tbody>\n",
       "</table>\n",
       "</div>"
      ],
      "text/plain": [
       "   KNUMV  KPOSN KSCHL      KAWRT     KBETR\n",
       "0      1     10  PR00    20.0000 3000.0000\n",
       "1      1     10  SKTO  6000.0000    0.0000\n",
       "2      1     10  VPRS    20.0000 1400.0000\n",
       "3      2     10  PR00    50.0000 3000.0000\n",
       "4      2     10  SKTO 15000.0000    0.0000"
      ]
     },
     "execution_count": 12,
     "metadata": {},
     "output_type": "execute_result"
    }
   ],
   "source": [
    "konv.head()"
   ]
  },
  {
   "cell_type": "markdown",
   "metadata": {},
   "source": [
    "## Foco na *[Brent](https://pt.wikipedia.org/wiki/Brent_(petr%C3%B3leo)) Crude Oil (Óleo cru de Brent)"
   ]
  },
  {
   "cell_type": "markdown",
   "metadata": {
    "ExecuteTime": {
     "end_time": "2018-05-04T04:29:31.332488Z",
     "start_time": "2018-05-04T04:29:31.319713Z"
    }
   },
   "source": [
    "Vamos filtrar as linhas dos itens que contém pedidos para a Brent Crude Oil (`MATNR`: `BRENTCRUDE`). Armazenaremos em uma variável chamada `ekpo_bco`."
   ]
  },
  {
   "cell_type": "code",
   "execution_count": 13,
   "metadata": {
    "ExecuteTime": {
     "end_time": "2018-05-04T06:45:58.762875Z",
     "start_time": "2018-05-04T06:45:58.747539Z"
    }
   },
   "outputs": [
    {
     "data": {
      "text/html": [
       "<div>\n",
       "<style scoped>\n",
       "    .dataframe tbody tr th:only-of-type {\n",
       "        vertical-align: middle;\n",
       "    }\n",
       "\n",
       "    .dataframe tbody tr th {\n",
       "        vertical-align: top;\n",
       "    }\n",
       "\n",
       "    .dataframe thead th {\n",
       "        text-align: right;\n",
       "    }\n",
       "</style>\n",
       "<table border=\"1\" class=\"dataframe\">\n",
       "  <thead>\n",
       "    <tr style=\"text-align: right;\">\n",
       "      <th></th>\n",
       "      <th>EBELN</th>\n",
       "      <th>EBELP</th>\n",
       "      <th>TXZ01</th>\n",
       "      <th>MATNR</th>\n",
       "      <th>MENGE</th>\n",
       "      <th>NETPR</th>\n",
       "      <th>NETWR</th>\n",
       "    </tr>\n",
       "  </thead>\n",
       "  <tbody>\n",
       "    <tr>\n",
       "      <th>2</th>\n",
       "      <td>4500000001</td>\n",
       "      <td>10</td>\n",
       "      <td>Brent Crude Oil</td>\n",
       "      <td>BRENTCRUDE</td>\n",
       "      <td>20193</td>\n",
       "      <td>4335.0000</td>\n",
       "      <td>87536655.0000</td>\n",
       "    </tr>\n",
       "    <tr>\n",
       "      <th>3</th>\n",
       "      <td>4500000002</td>\n",
       "      <td>10</td>\n",
       "      <td>Brent Crude Oil</td>\n",
       "      <td>BRENTCRUDE</td>\n",
       "      <td>20103</td>\n",
       "      <td>4360.0000</td>\n",
       "      <td>87649080.0000</td>\n",
       "    </tr>\n",
       "    <tr>\n",
       "      <th>4</th>\n",
       "      <td>4500000003</td>\n",
       "      <td>10</td>\n",
       "      <td>Brent Crude Oil</td>\n",
       "      <td>BRENTCRUDE</td>\n",
       "      <td>20013</td>\n",
       "      <td>4340.0000</td>\n",
       "      <td>86856420.0000</td>\n",
       "    </tr>\n",
       "    <tr>\n",
       "      <th>5</th>\n",
       "      <td>4500000004</td>\n",
       "      <td>10</td>\n",
       "      <td>Brent Crude Oil</td>\n",
       "      <td>BRENTCRUDE</td>\n",
       "      <td>20154</td>\n",
       "      <td>4307.5000</td>\n",
       "      <td>83319972.5000</td>\n",
       "    </tr>\n",
       "    <tr>\n",
       "      <th>6</th>\n",
       "      <td>4500000005</td>\n",
       "      <td>10</td>\n",
       "      <td>Brent Crude Oil</td>\n",
       "      <td>BRENTCRUDE</td>\n",
       "      <td>19985</td>\n",
       "      <td>4277.5000</td>\n",
       "      <td>85485837.5000</td>\n",
       "    </tr>\n",
       "  </tbody>\n",
       "</table>\n",
       "</div>"
      ],
      "text/plain": [
       "        EBELN  EBELP            TXZ01       MATNR  MENGE     NETPR  \\\n",
       "2  4500000001     10  Brent Crude Oil  BRENTCRUDE  20193 4335.0000   \n",
       "3  4500000002     10  Brent Crude Oil  BRENTCRUDE  20103 4360.0000   \n",
       "4  4500000003     10  Brent Crude Oil  BRENTCRUDE  20013 4340.0000   \n",
       "5  4500000004     10  Brent Crude Oil  BRENTCRUDE  20154 4307.5000   \n",
       "6  4500000005     10  Brent Crude Oil  BRENTCRUDE  19985 4277.5000   \n",
       "\n",
       "          NETWR  \n",
       "2 87536655.0000  \n",
       "3 87649080.0000  \n",
       "4 86856420.0000  \n",
       "5 83319972.5000  \n",
       "6 85485837.5000  "
      ]
     },
     "execution_count": 13,
     "metadata": {},
     "output_type": "execute_result"
    }
   ],
   "source": [
    "ekpo_bco = ekpo[ekpo['MATNR']=='BRENTCRUDE']\n",
    "ekpo_bco.head()"
   ]
  },
  {
   "cell_type": "markdown",
   "metadata": {
    "ExecuteTime": {
     "end_time": "2018-05-04T04:29:31.332488Z",
     "start_time": "2018-05-04T04:29:31.319713Z"
    }
   },
   "source": [
    "Quantos pedidos foram feitos para a Brent Crude Oil?"
   ]
  },
  {
   "cell_type": "code",
   "execution_count": 14,
   "metadata": {
    "ExecuteTime": {
     "end_time": "2018-05-04T06:45:58.796574Z",
     "start_time": "2018-05-04T06:45:58.783178Z"
    }
   },
   "outputs": [
    {
     "name": "stdout",
     "output_type": "stream",
     "text": [
      "Foram feitos 29 pedidos de Brent Crude Oil\n"
     ]
    }
   ],
   "source": [
    "print('Foram feitos {} pedidos de Brent Crude Oil'.format(len(ekpo_bco)))"
   ]
  },
  {
   "cell_type": "markdown",
   "metadata": {
    "ExecuteTime": {
     "end_time": "2018-05-04T05:33:31.215339Z",
     "start_time": "2018-05-04T05:33:31.206642Z"
    }
   },
   "source": [
    "## O valor dos pedidos de compra da Brent Crude Oil "
   ]
  },
  {
   "cell_type": "markdown",
   "metadata": {},
   "source": [
    "Qual é o valor geral de todas as ordens de compra da Brent Crude Oil?"
   ]
  },
  {
   "cell_type": "code",
   "execution_count": 15,
   "metadata": {},
   "outputs": [
    {
     "name": "stdout",
     "output_type": "stream",
     "text": [
      "O valor total dos pedidos foram de:$ 2,536,790,085.00\n"
     ]
    }
   ],
   "source": [
    "print('O valor total dos pedidos foram de:$ {:7,.2f}'.format(ekpo_bco['NETWR'].sum()))"
   ]
  },
  {
   "cell_type": "markdown",
   "metadata": {},
   "source": [
    "Qual a média dos preços líquidos efetivos(`NETPR`)?"
   ]
  },
  {
   "cell_type": "code",
   "execution_count": 16,
   "metadata": {},
   "outputs": [
    {
     "data": {
      "text/plain": [
       "4384.827586206897"
      ]
     },
     "execution_count": 16,
     "metadata": {},
     "output_type": "execute_result"
    }
   ],
   "source": [
    "ekpo_bco['NETPR'].mean()"
   ]
  },
  {
   "cell_type": "markdown",
   "metadata": {
    "ExecuteTime": {
     "end_time": "2018-05-04T04:37:46.989304Z",
     "start_time": "2018-05-04T04:37:46.971051Z"
    }
   },
   "source": [
    "Vamos visualizar como os preços líquidos efetivos (`NETPR`) de todos os pedidos de Brent Crude Oil mudam ao longo do tempo. *(Assuma que a ordem dos pedidos de compra represente tempo)*"
   ]
  },
  {
   "cell_type": "code",
   "execution_count": 17,
   "metadata": {},
   "outputs": [
    {
     "data": {
      "text/plain": [
       "<Figure size 864x432 with 0 Axes>"
      ]
     },
     "execution_count": 17,
     "metadata": {},
     "output_type": "execute_result"
    },
    {
     "data": {
      "text/plain": [
       "[Text(0, 0.5, 'Preço Líquido Efetivo do Petróleo Brent'),\n",
       " Text(0.5, 0, 'Ordem de Compra')]"
      ]
     },
     "execution_count": 17,
     "metadata": {},
     "output_type": "execute_result"
    },
    {
     "data": {
      "image/png": "[encoded data removed]",
      "text/plain": [
       "<Figure size 864x432 with 1 Axes>"
      ]
     },
     "metadata": {
      "needs_background": "light"
     },
     "output_type": "display_data"
    }
   ],
   "source": [
    "plt.figure(figsize=(12,6))\n",
    "\n",
    "sns.set(style=\"darkgrid\")\n",
    "ax = sns.lineplot(x=ekpo_bco.index, y =\"NETPR\",data=ekpo_bco,color=\"blue\")\n",
    "ax.set(xlabel='Ordem de Compra', ylabel='Preço Líquido Efetivo do Petróleo Brent')\n",
    "\n",
    "plt.show()\n"
   ]
  },
  {
   "cell_type": "markdown",
   "metadata": {},
   "source": [
    "**Reflita:** Qual é a sua interpretação do preço líquido efetivo?"
   ]
  },
  {
   "cell_type": "markdown",
   "metadata": {
    "ExecuteTime": {
     "end_time": "2018-05-04T05:34:05.479375Z",
     "start_time": "2018-05-04T05:34:05.472850Z"
    }
   },
   "source": [
    "## O volume dos pedidos de compra de petróleo Brent"
   ]
  },
  {
   "cell_type": "markdown",
   "metadata": {},
   "source": [
    "Qual é o volume médio dos pedidos de petróleo brent?"
   ]
  },
  {
   "cell_type": "code",
   "execution_count": 18,
   "metadata": {
    "ExecuteTime": {
     "end_time": "2018-05-04T06:45:59.273019Z",
     "start_time": "2018-05-04T06:45:59.260165Z"
    }
   },
   "outputs": [
    {
     "data": {
      "text/plain": [
       "19977.724137931036"
      ]
     },
     "execution_count": 18,
     "metadata": {},
     "output_type": "execute_result"
    }
   ],
   "source": [
    "ekpo_bco['MENGE'].mean()"
   ]
  },
  {
   "cell_type": "markdown",
   "metadata": {
    "ExecuteTime": {
     "end_time": "2018-05-04T04:37:46.989304Z",
     "start_time": "2018-05-04T04:37:46.971051Z"
    }
   },
   "source": [
    "Mostrando a quantidade de todos os pedidos (`MENGE`) de petróleo Brent. (Assuma que a ordem dos pedidos de compra represente tempo)."
   ]
  },
  {
   "cell_type": "code",
   "execution_count": 19,
   "metadata": {},
   "outputs": [
    {
     "data": {
      "text/plain": [
       "<Figure size 864x432 with 0 Axes>"
      ]
     },
     "execution_count": 19,
     "metadata": {},
     "output_type": "execute_result"
    },
    {
     "data": {
      "text/plain": [
       "[Text(0, 0.5, 'Volume de pedidos de Brent Crude Oil'),\n",
       " Text(0.5, 0, 'Ordem de Compra')]"
      ]
     },
     "execution_count": 19,
     "metadata": {},
     "output_type": "execute_result"
    },
    {
     "data": {
      "image/png": "[encoded data removed]",
      "text/plain": [
       "<Figure size 864x432 with 1 Axes>"
      ]
     },
     "metadata": {},
     "output_type": "display_data"
    }
   ],
   "source": [
    "plt.figure(figsize=(12,6))\n",
    "\n",
    "sns.set(style=\"darkgrid\")\n",
    "ax = sns.lineplot(x=ekpo_bco.index, y =\"MENGE\",data=ekpo_bco,color=\"blue\")\n",
    "ax.set(xlabel='Ordem de Compra', ylabel='Volume de pedidos de Brent Crude Oil')\n",
    "\n",
    "plt.show()\n"
   ]
  },
  {
   "cell_type": "markdown",
   "metadata": {},
   "source": [
    "**Reflita:** Qual é a sua interpretação do volume de pedidos?"
   ]
  },
  {
   "cell_type": "markdown",
   "metadata": {
    "ExecuteTime": {
     "end_time": "2018-05-04T05:37:13.871861Z",
     "start_time": "2018-05-04T05:37:13.867298Z"
    }
   },
   "source": [
    "## Análise integrada de `EKKO` e `EKPO`"
   ]
  },
  {
   "cell_type": "markdown",
   "metadata": {
    "ExecuteTime": {
     "end_time": "2018-05-04T04:37:46.989304Z",
     "start_time": "2018-05-04T04:37:46.971051Z"
    }
   },
   "source": [
    "Vamos fazer uma *left join* das tabelas `ekpo_bco` e `ekko`. Armazenaremos em uma variável chamada `ekko_ekpo_bco`."
   ]
  },
  {
   "cell_type": "code",
   "execution_count": 20,
   "metadata": {
    "ExecuteTime": {
     "end_time": "2018-05-04T06:45:59.341210Z",
     "start_time": "2018-05-04T06:45:59.326982Z"
    }
   },
   "outputs": [
    {
     "data": {
      "text/html": [
       "<div>\n",
       "<style scoped>\n",
       "    .dataframe tbody tr th:only-of-type {\n",
       "        vertical-align: middle;\n",
       "    }\n",
       "\n",
       "    .dataframe tbody tr th {\n",
       "        vertical-align: top;\n",
       "    }\n",
       "\n",
       "    .dataframe thead th {\n",
       "        text-align: right;\n",
       "    }\n",
       "</style>\n",
       "<table border=\"1\" class=\"dataframe\">\n",
       "  <thead>\n",
       "    <tr style=\"text-align: right;\">\n",
       "      <th></th>\n",
       "      <th>EBELN</th>\n",
       "      <th>EBELP</th>\n",
       "      <th>TXZ01</th>\n",
       "      <th>MATNR</th>\n",
       "      <th>MENGE</th>\n",
       "      <th>NETPR</th>\n",
       "      <th>NETWR</th>\n",
       "      <th>ERNAM</th>\n",
       "      <th>LIFNR</th>\n",
       "      <th>KNUMV</th>\n",
       "    </tr>\n",
       "  </thead>\n",
       "  <tbody>\n",
       "    <tr>\n",
       "      <th>0</th>\n",
       "      <td>4500000001</td>\n",
       "      <td>10</td>\n",
       "      <td>Brent Crude Oil</td>\n",
       "      <td>BRENTCRUDE</td>\n",
       "      <td>20193</td>\n",
       "      <td>4335.0000</td>\n",
       "      <td>87536655.0000</td>\n",
       "      <td>GBI-085</td>\n",
       "      <td>125000.0000</td>\n",
       "      <td>1000000020.0000</td>\n",
       "    </tr>\n",
       "    <tr>\n",
       "      <th>1</th>\n",
       "      <td>4500000002</td>\n",
       "      <td>10</td>\n",
       "      <td>Brent Crude Oil</td>\n",
       "      <td>BRENTCRUDE</td>\n",
       "      <td>20103</td>\n",
       "      <td>4360.0000</td>\n",
       "      <td>87649080.0000</td>\n",
       "      <td>GBI-085</td>\n",
       "      <td>125000.0000</td>\n",
       "      <td>1000000021.0000</td>\n",
       "    </tr>\n",
       "    <tr>\n",
       "      <th>2</th>\n",
       "      <td>4500000003</td>\n",
       "      <td>10</td>\n",
       "      <td>Brent Crude Oil</td>\n",
       "      <td>BRENTCRUDE</td>\n",
       "      <td>20013</td>\n",
       "      <td>4340.0000</td>\n",
       "      <td>86856420.0000</td>\n",
       "      <td>GBI-085</td>\n",
       "      <td>125000.0000</td>\n",
       "      <td>1000000022.0000</td>\n",
       "    </tr>\n",
       "    <tr>\n",
       "      <th>3</th>\n",
       "      <td>4500000004</td>\n",
       "      <td>10</td>\n",
       "      <td>Brent Crude Oil</td>\n",
       "      <td>BRENTCRUDE</td>\n",
       "      <td>20154</td>\n",
       "      <td>4307.5000</td>\n",
       "      <td>83319972.5000</td>\n",
       "      <td>GBIFAC-01</td>\n",
       "      <td>125000.0000</td>\n",
       "      <td>1000000023.0000</td>\n",
       "    </tr>\n",
       "    <tr>\n",
       "      <th>4</th>\n",
       "      <td>4500000005</td>\n",
       "      <td>10</td>\n",
       "      <td>Brent Crude Oil</td>\n",
       "      <td>BRENTCRUDE</td>\n",
       "      <td>19985</td>\n",
       "      <td>4277.5000</td>\n",
       "      <td>85485837.5000</td>\n",
       "      <td>GBIFAC-01</td>\n",
       "      <td>125000.0000</td>\n",
       "      <td>1000000024.0000</td>\n",
       "    </tr>\n",
       "  </tbody>\n",
       "</table>\n",
       "</div>"
      ],
      "text/plain": [
       "        EBELN  EBELP            TXZ01       MATNR  MENGE     NETPR  \\\n",
       "0  4500000001     10  Brent Crude Oil  BRENTCRUDE  20193 4335.0000   \n",
       "1  4500000002     10  Brent Crude Oil  BRENTCRUDE  20103 4360.0000   \n",
       "2  4500000003     10  Brent Crude Oil  BRENTCRUDE  20013 4340.0000   \n",
       "3  4500000004     10  Brent Crude Oil  BRENTCRUDE  20154 4307.5000   \n",
       "4  4500000005     10  Brent Crude Oil  BRENTCRUDE  19985 4277.5000   \n",
       "\n",
       "          NETWR      ERNAM       LIFNR           KNUMV  \n",
       "0 87536655.0000    GBI-085 125000.0000 1000000020.0000  \n",
       "1 87649080.0000    GBI-085 125000.0000 1000000021.0000  \n",
       "2 86856420.0000    GBI-085 125000.0000 1000000022.0000  \n",
       "3 83319972.5000  GBIFAC-01 125000.0000 1000000023.0000  \n",
       "4 85485837.5000  GBIFAC-01 125000.0000 1000000024.0000  "
      ]
     },
     "execution_count": 20,
     "metadata": {},
     "output_type": "execute_result"
    }
   ],
   "source": [
    "ekko_ekpo_bco = pd.merge(ekpo_bco, ekko, on='EBELN')\n",
    "ekko_ekpo_bco.head()"
   ]
  },
  {
   "cell_type": "markdown",
   "metadata": {},
   "source": [
    "Quantos fornecedores(`LIFNR`) entregam Brent crude oil?"
   ]
  },
  {
   "cell_type": "code",
   "execution_count": 21,
   "metadata": {
    "ExecuteTime": {
     "end_time": "2018-05-04T06:45:59.397219Z",
     "start_time": "2018-05-04T06:45:59.384766Z"
    }
   },
   "outputs": [
    {
     "data": {
      "text/plain": [
       "array([125000.])"
      ]
     },
     "execution_count": 21,
     "metadata": {},
     "output_type": "execute_result"
    }
   ],
   "source": [
    "ekko_ekpo_bco['LIFNR'].unique()"
   ]
  },
  {
   "cell_type": "markdown",
   "metadata": {},
   "source": [
    "Podemos ver que a empresa em questão só comprou Brent Crude Oil de um único fornecedor!"
   ]
  },
  {
   "cell_type": "markdown",
   "metadata": {},
   "source": [
    "Quantos funcionários do grupo de compras (ERNAM) são responsáveis pelos pedidos de Brent Crude Oil?"
   ]
  },
  {
   "cell_type": "code",
   "execution_count": 22,
   "metadata": {
    "ExecuteTime": {
     "end_time": "2018-05-04T06:45:59.413631Z",
     "start_time": "2018-05-04T06:45:59.402275Z"
    }
   },
   "outputs": [
    {
     "data": {
      "text/plain": [
       "array(['GBI-085', 'GBIFAC-01'], dtype=object)"
      ]
     },
     "execution_count": 22,
     "metadata": {},
     "output_type": "execute_result"
    }
   ],
   "source": [
    "func_unicos = ekko_ekpo_bco['ERNAM'].unique()\n",
    "func_unicos"
   ]
  },
  {
   "cell_type": "markdown",
   "metadata": {},
   "source": [
    "Podemos ver que somente 2 funcionários autorizaram compras de Brent Crude Oil no período avaliado!!!!"
   ]
  },
  {
   "cell_type": "markdown",
   "metadata": {},
   "source": [
    "Existem diferenças no volume médio de pedidos entre os funcionários do grupo de compras(`ERNAM`)?"
   ]
  },
  {
   "cell_type": "code",
   "execution_count": 23,
   "metadata": {
    "ExecuteTime": {
     "end_time": "2018-05-04T06:45:59.435134Z",
     "start_time": "2018-05-04T06:45:59.420155Z"
    }
   },
   "outputs": [
    {
     "data": {
      "text/plain": [
       "ERNAM\n",
       "GBI-085     20118.8889\n",
       "GBIFAC-01   19914.2000\n",
       "Name: MENGE, dtype: float64"
      ]
     },
     "execution_count": 23,
     "metadata": {},
     "output_type": "execute_result"
    }
   ],
   "source": [
    "vol_med = ekko_ekpo_bco.groupby('ERNAM')['MENGE'].mean()\n",
    "vol_med"
   ]
  },
  {
   "cell_type": "markdown",
   "metadata": {},
   "source": [
    "Mostrando a evolução da quantidade de todos os pedidos (MENGE) de petróleo Brent dos 2 funcionários citados acima. (Assuma que a ordem dos pedidos de compra represente tempo)."
   ]
  },
  {
   "cell_type": "code",
   "execution_count": 24,
   "metadata": {},
   "outputs": [
    {
     "data": {
      "text/plain": [
       "<Figure size 864x432 with 0 Axes>"
      ]
     },
     "execution_count": 24,
     "metadata": {},
     "output_type": "execute_result"
    },
    {
     "data": {
      "text/plain": [
       "[Text(0, 0.5, 'Volume de pedidos de Brent Crude Oil'),\n",
       " Text(0.5, 0, 'Ordem de Compra')]"
      ]
     },
     "execution_count": 24,
     "metadata": {},
     "output_type": "execute_result"
    },
    {
     "data": {
      "image/png": "[encoded data removed]",
      "text/plain": [
       "<Figure size 864x432 with 1 Axes>"
      ]
     },
     "metadata": {},
     "output_type": "display_data"
    }
   ],
   "source": [
    "plt.figure(figsize=(12,6))\n",
    "\n",
    "sns.set(style=\"darkgrid\")\n",
    "ax = sns.lineplot(x=ekko_ekpo_bco.index, y =ekko_ekpo_bco[\"MENGE\"],\n",
    "                  data= ekko_ekpo_bco, color = 'r', hue = ekko_ekpo_bco.ERNAM)\n",
    "ax.set(xlabel='Ordem de Compra', ylabel='Volume de pedidos de Brent Crude Oil')\n",
    "\n",
    "plt.show()\n"
   ]
  },
  {
   "cell_type": "markdown",
   "metadata": {},
   "source": [
    "## Análise das condições"
   ]
  },
  {
   "cell_type": "markdown",
   "metadata": {},
   "source": [
    "Filtrar as condições para o pedidos de compra de Brent Crude Oil! Armazene o resultado em uma variável chamada`konv_bco`."
   ]
  },
  {
   "cell_type": "code",
   "execution_count": 25,
   "metadata": {
    "ExecuteTime": {
     "end_time": "2018-05-04T06:45:59.506414Z",
     "start_time": "2018-05-04T06:45:59.498785Z"
    }
   },
   "outputs": [],
   "source": [
    "konv_bco = konv[konv['KNUMV'].isin(ekko_ekpo_bco['KNUMV'])]"
   ]
  },
  {
   "cell_type": "markdown",
   "metadata": {},
   "source": [
    "Vamos ver as 5 primeiras linhas da tabela `konv_bco`."
   ]
  },
  {
   "cell_type": "code",
   "execution_count": 26,
   "metadata": {
    "ExecuteTime": {
     "end_time": "2018-05-04T06:45:59.537802Z",
     "start_time": "2018-05-04T06:45:59.511636Z"
    }
   },
   "outputs": [
    {
     "data": {
      "text/html": [
       "<div>\n",
       "<style scoped>\n",
       "    .dataframe tbody tr th:only-of-type {\n",
       "        vertical-align: middle;\n",
       "    }\n",
       "\n",
       "    .dataframe tbody tr th {\n",
       "        vertical-align: top;\n",
       "    }\n",
       "\n",
       "    .dataframe thead th {\n",
       "        text-align: right;\n",
       "    }\n",
       "</style>\n",
       "<table border=\"1\" class=\"dataframe\">\n",
       "  <thead>\n",
       "    <tr style=\"text-align: right;\">\n",
       "      <th></th>\n",
       "      <th>KNUMV</th>\n",
       "      <th>KPOSN</th>\n",
       "      <th>KSCHL</th>\n",
       "      <th>KAWRT</th>\n",
       "      <th>KBETR</th>\n",
       "    </tr>\n",
       "  </thead>\n",
       "  <tbody>\n",
       "    <tr>\n",
       "      <th>52</th>\n",
       "      <td>1000000020</td>\n",
       "      <td>10</td>\n",
       "      <td>PBXX</td>\n",
       "      <td>1000.0000</td>\n",
       "      <td>4336.2400</td>\n",
       "    </tr>\n",
       "    <tr>\n",
       "      <th>53</th>\n",
       "      <td>1000000020</td>\n",
       "      <td>10</td>\n",
       "      <td>RB00</td>\n",
       "      <td>87561655.0000</td>\n",
       "      <td>-25000.0000</td>\n",
       "    </tr>\n",
       "    <tr>\n",
       "      <th>54</th>\n",
       "      <td>1000000020</td>\n",
       "      <td>10</td>\n",
       "      <td>NAVM</td>\n",
       "      <td>87536655.0000</td>\n",
       "      <td>0.0000</td>\n",
       "    </tr>\n",
       "    <tr>\n",
       "      <th>55</th>\n",
       "      <td>1000000020</td>\n",
       "      <td>10</td>\n",
       "      <td>SKTO</td>\n",
       "      <td>87536655.0000</td>\n",
       "      <td>0.0000</td>\n",
       "    </tr>\n",
       "    <tr>\n",
       "      <th>56</th>\n",
       "      <td>1000000020</td>\n",
       "      <td>10</td>\n",
       "      <td>WOTB</td>\n",
       "      <td>1000.0000</td>\n",
       "      <td>4335.0000</td>\n",
       "    </tr>\n",
       "  </tbody>\n",
       "</table>\n",
       "</div>"
      ],
      "text/plain": [
       "         KNUMV  KPOSN KSCHL         KAWRT       KBETR\n",
       "52  1000000020     10  PBXX     1000.0000   4336.2400\n",
       "53  1000000020     10  RB00 87561655.0000 -25000.0000\n",
       "54  1000000020     10  NAVM 87536655.0000      0.0000\n",
       "55  1000000020     10  SKTO 87536655.0000      0.0000\n",
       "56  1000000020     10  WOTB     1000.0000   4335.0000"
      ]
     },
     "execution_count": 26,
     "metadata": {},
     "output_type": "execute_result"
    }
   ],
   "source": [
    "konv_bco.head()"
   ]
  },
  {
   "cell_type": "markdown",
   "metadata": {},
   "source": [
    "Qual é o tipo de condição interessante?"
   ]
  },
  {
   "cell_type": "code",
   "execution_count": 27,
   "metadata": {
    "ExecuteTime": {
     "end_time": "2018-05-04T06:45:59.564500Z",
     "start_time": "2018-05-04T06:45:59.541876Z"
    }
   },
   "outputs": [
    {
     "data": {
      "text/html": [
       "<div>\n",
       "<style scoped>\n",
       "    .dataframe tbody tr th:only-of-type {\n",
       "        vertical-align: middle;\n",
       "    }\n",
       "\n",
       "    .dataframe tbody tr th {\n",
       "        vertical-align: top;\n",
       "    }\n",
       "\n",
       "    .dataframe thead th {\n",
       "        text-align: right;\n",
       "    }\n",
       "</style>\n",
       "<table border=\"1\" class=\"dataframe\">\n",
       "  <thead>\n",
       "    <tr style=\"text-align: right;\">\n",
       "      <th></th>\n",
       "      <th>KSCHL</th>\n",
       "    </tr>\n",
       "    <tr>\n",
       "      <th>KSCHL</th>\n",
       "      <th></th>\n",
       "    </tr>\n",
       "  </thead>\n",
       "  <tbody>\n",
       "    <tr>\n",
       "      <th>NAVM</th>\n",
       "      <td>29</td>\n",
       "    </tr>\n",
       "    <tr>\n",
       "      <th>PBXX</th>\n",
       "      <td>29</td>\n",
       "    </tr>\n",
       "    <tr>\n",
       "      <th>RB00</th>\n",
       "      <td>11</td>\n",
       "    </tr>\n",
       "    <tr>\n",
       "      <th>SKTO</th>\n",
       "      <td>29</td>\n",
       "    </tr>\n",
       "    <tr>\n",
       "      <th>WOTB</th>\n",
       "      <td>29</td>\n",
       "    </tr>\n",
       "  </tbody>\n",
       "</table>\n",
       "</div>"
      ],
      "text/plain": [
       "       KSCHL\n",
       "KSCHL       \n",
       "NAVM      29\n",
       "PBXX      29\n",
       "RB00      11\n",
       "SKTO      29\n",
       "WOTB      29"
      ]
     },
     "execution_count": 27,
     "metadata": {},
     "output_type": "execute_result"
    }
   ],
   "source": [
    "konv_bco.groupby('KSCHL')[['KSCHL']].count()"
   ]
  },
  {
   "cell_type": "markdown",
   "metadata": {},
   "source": [
    "Interessante, somente a condição `RB00`(descontos absolutos) diverge das demais."
   ]
  },
  {
   "cell_type": "markdown",
   "metadata": {},
   "source": [
    "Adicione **dummies** para o tipo de condição ao konv_bco. Armazenar o resultado em uma variável chamada `konv_bco_d`?\n",
    "\n",
    "**Obs** - Variável dummy é uma variável categórica que foi transformada em numérica, por exemplo, em uma pesquisa feita com 10 pessoas, 7 eram do sexo masculino e 3 do feminino. Como “feminino” e “masculino” são categorias de sexo, como poderíamos transformá-las em números? Uma maneira de se fazer isso é atribuir, por exemplo, o número 0 a categoria “masculino” e o número 1 a categoria “feminino”."
   ]
  },
  {
   "cell_type": "code",
   "execution_count": 28,
   "metadata": {
    "ExecuteTime": {
     "end_time": "2018-05-04T06:45:59.604922Z",
     "start_time": "2018-05-04T06:45:59.573142Z"
    }
   },
   "outputs": [],
   "source": [
    "konv_bco_d = konv_bco.join(konv_bco['KSCHL'].str.get_dummies())"
   ]
  },
  {
   "cell_type": "markdown",
   "metadata": {
    "ExecuteTime": {
     "end_time": "2018-05-04T05:48:03.153060Z",
     "start_time": "2018-05-04T05:48:03.142157Z"
    }
   },
   "source": [
    "Vamos ver as 5 primeiras linhas da tabela`konv_bco_d`."
   ]
  },
  {
   "cell_type": "code",
   "execution_count": 29,
   "metadata": {
    "ExecuteTime": {
     "end_time": "2018-05-04T06:45:59.663675Z",
     "start_time": "2018-05-04T06:45:59.615210Z"
    }
   },
   "outputs": [
    {
     "data": {
      "text/html": [
       "<div>\n",
       "<style scoped>\n",
       "    .dataframe tbody tr th:only-of-type {\n",
       "        vertical-align: middle;\n",
       "    }\n",
       "\n",
       "    .dataframe tbody tr th {\n",
       "        vertical-align: top;\n",
       "    }\n",
       "\n",
       "    .dataframe thead th {\n",
       "        text-align: right;\n",
       "    }\n",
       "</style>\n",
       "<table border=\"1\" class=\"dataframe\">\n",
       "  <thead>\n",
       "    <tr style=\"text-align: right;\">\n",
       "      <th></th>\n",
       "      <th>KNUMV</th>\n",
       "      <th>KPOSN</th>\n",
       "      <th>KSCHL</th>\n",
       "      <th>KAWRT</th>\n",
       "      <th>KBETR</th>\n",
       "      <th>NAVM</th>\n",
       "      <th>PBXX</th>\n",
       "      <th>RB00</th>\n",
       "      <th>SKTO</th>\n",
       "      <th>WOTB</th>\n",
       "    </tr>\n",
       "  </thead>\n",
       "  <tbody>\n",
       "    <tr>\n",
       "      <th>52</th>\n",
       "      <td>1000000020</td>\n",
       "      <td>10</td>\n",
       "      <td>PBXX</td>\n",
       "      <td>1000.0000</td>\n",
       "      <td>4336.2400</td>\n",
       "      <td>0</td>\n",
       "      <td>1</td>\n",
       "      <td>0</td>\n",
       "      <td>0</td>\n",
       "      <td>0</td>\n",
       "    </tr>\n",
       "    <tr>\n",
       "      <th>53</th>\n",
       "      <td>1000000020</td>\n",
       "      <td>10</td>\n",
       "      <td>RB00</td>\n",
       "      <td>87561655.0000</td>\n",
       "      <td>-25000.0000</td>\n",
       "      <td>0</td>\n",
       "      <td>0</td>\n",
       "      <td>1</td>\n",
       "      <td>0</td>\n",
       "      <td>0</td>\n",
       "    </tr>\n",
       "    <tr>\n",
       "      <th>54</th>\n",
       "      <td>1000000020</td>\n",
       "      <td>10</td>\n",
       "      <td>NAVM</td>\n",
       "      <td>87536655.0000</td>\n",
       "      <td>0.0000</td>\n",
       "      <td>1</td>\n",
       "      <td>0</td>\n",
       "      <td>0</td>\n",
       "      <td>0</td>\n",
       "      <td>0</td>\n",
       "    </tr>\n",
       "    <tr>\n",
       "      <th>55</th>\n",
       "      <td>1000000020</td>\n",
       "      <td>10</td>\n",
       "      <td>SKTO</td>\n",
       "      <td>87536655.0000</td>\n",
       "      <td>0.0000</td>\n",
       "      <td>0</td>\n",
       "      <td>0</td>\n",
       "      <td>0</td>\n",
       "      <td>1</td>\n",
       "      <td>0</td>\n",
       "    </tr>\n",
       "    <tr>\n",
       "      <th>56</th>\n",
       "      <td>1000000020</td>\n",
       "      <td>10</td>\n",
       "      <td>WOTB</td>\n",
       "      <td>1000.0000</td>\n",
       "      <td>4335.0000</td>\n",
       "      <td>0</td>\n",
       "      <td>0</td>\n",
       "      <td>0</td>\n",
       "      <td>0</td>\n",
       "      <td>1</td>\n",
       "    </tr>\n",
       "  </tbody>\n",
       "</table>\n",
       "</div>"
      ],
      "text/plain": [
       "         KNUMV  KPOSN KSCHL         KAWRT       KBETR  NAVM  PBXX  RB00  SKTO  \\\n",
       "52  1000000020     10  PBXX     1000.0000   4336.2400     0     1     0     0   \n",
       "53  1000000020     10  RB00 87561655.0000 -25000.0000     0     0     1     0   \n",
       "54  1000000020     10  NAVM 87536655.0000      0.0000     1     0     0     0   \n",
       "55  1000000020     10  SKTO 87536655.0000      0.0000     0     0     0     1   \n",
       "56  1000000020     10  WOTB     1000.0000   4335.0000     0     0     0     0   \n",
       "\n",
       "    WOTB  \n",
       "52     0  \n",
       "53     0  \n",
       "54     0  \n",
       "55     0  \n",
       "56     1  "
      ]
     },
     "execution_count": 29,
     "metadata": {},
     "output_type": "execute_result"
    }
   ],
   "source": [
    "konv_bco_d.head()"
   ]
  },
  {
   "cell_type": "markdown",
   "metadata": {},
   "source": [
    "Vamos filtrar os conjuntos de condições que contêm o tipo de condição de interesse. Armazene o resultado em uma variável chamada `rb00`(Lembre-se que o código RB00 significa descontos absolutos)."
   ]
  },
  {
   "cell_type": "code",
   "execution_count": 30,
   "metadata": {
    "ExecuteTime": {
     "end_time": "2018-05-04T06:45:59.689305Z",
     "start_time": "2018-05-04T06:45:59.673665Z"
    }
   },
   "outputs": [],
   "source": [
    "rb00 = konv_bco_d.groupby('KNUMV')['RB00'].sum().reset_index()"
   ]
  },
  {
   "cell_type": "code",
   "execution_count": 31,
   "metadata": {},
   "outputs": [
    {
     "data": {
      "text/html": [
       "<div>\n",
       "<style scoped>\n",
       "    .dataframe tbody tr th:only-of-type {\n",
       "        vertical-align: middle;\n",
       "    }\n",
       "\n",
       "    .dataframe tbody tr th {\n",
       "        vertical-align: top;\n",
       "    }\n",
       "\n",
       "    .dataframe thead th {\n",
       "        text-align: right;\n",
       "    }\n",
       "</style>\n",
       "<table border=\"1\" class=\"dataframe\">\n",
       "  <thead>\n",
       "    <tr style=\"text-align: right;\">\n",
       "      <th></th>\n",
       "      <th>KNUMV</th>\n",
       "      <th>RB00</th>\n",
       "    </tr>\n",
       "  </thead>\n",
       "  <tbody>\n",
       "    <tr>\n",
       "      <th>0</th>\n",
       "      <td>1000000020</td>\n",
       "      <td>1</td>\n",
       "    </tr>\n",
       "    <tr>\n",
       "      <th>1</th>\n",
       "      <td>1000000021</td>\n",
       "      <td>1</td>\n",
       "    </tr>\n",
       "    <tr>\n",
       "      <th>2</th>\n",
       "      <td>1000000022</td>\n",
       "      <td>1</td>\n",
       "    </tr>\n",
       "    <tr>\n",
       "      <th>3</th>\n",
       "      <td>1000000023</td>\n",
       "      <td>1</td>\n",
       "    </tr>\n",
       "    <tr>\n",
       "      <th>4</th>\n",
       "      <td>1000000024</td>\n",
       "      <td>0</td>\n",
       "    </tr>\n",
       "    <tr>\n",
       "      <th>5</th>\n",
       "      <td>1000000025</td>\n",
       "      <td>1</td>\n",
       "    </tr>\n",
       "    <tr>\n",
       "      <th>6</th>\n",
       "      <td>1000000028</td>\n",
       "      <td>0</td>\n",
       "    </tr>\n",
       "    <tr>\n",
       "      <th>7</th>\n",
       "      <td>1000000030</td>\n",
       "      <td>0</td>\n",
       "    </tr>\n",
       "    <tr>\n",
       "      <th>8</th>\n",
       "      <td>1000000080</td>\n",
       "      <td>0</td>\n",
       "    </tr>\n",
       "    <tr>\n",
       "      <th>9</th>\n",
       "      <td>1000000082</td>\n",
       "      <td>0</td>\n",
       "    </tr>\n",
       "    <tr>\n",
       "      <th>10</th>\n",
       "      <td>1000000104</td>\n",
       "      <td>1</td>\n",
       "    </tr>\n",
       "    <tr>\n",
       "      <th>11</th>\n",
       "      <td>1000000116</td>\n",
       "      <td>1</td>\n",
       "    </tr>\n",
       "    <tr>\n",
       "      <th>12</th>\n",
       "      <td>1000000120</td>\n",
       "      <td>1</td>\n",
       "    </tr>\n",
       "    <tr>\n",
       "      <th>13</th>\n",
       "      <td>1000000125</td>\n",
       "      <td>0</td>\n",
       "    </tr>\n",
       "    <tr>\n",
       "      <th>14</th>\n",
       "      <td>1000000126</td>\n",
       "      <td>0</td>\n",
       "    </tr>\n",
       "    <tr>\n",
       "      <th>15</th>\n",
       "      <td>1000000127</td>\n",
       "      <td>0</td>\n",
       "    </tr>\n",
       "    <tr>\n",
       "      <th>16</th>\n",
       "      <td>1000000128</td>\n",
       "      <td>1</td>\n",
       "    </tr>\n",
       "    <tr>\n",
       "      <th>17</th>\n",
       "      <td>1000000138</td>\n",
       "      <td>0</td>\n",
       "    </tr>\n",
       "    <tr>\n",
       "      <th>18</th>\n",
       "      <td>1000000151</td>\n",
       "      <td>1</td>\n",
       "    </tr>\n",
       "    <tr>\n",
       "      <th>19</th>\n",
       "      <td>1000000165</td>\n",
       "      <td>0</td>\n",
       "    </tr>\n",
       "    <tr>\n",
       "      <th>20</th>\n",
       "      <td>1000000190</td>\n",
       "      <td>0</td>\n",
       "    </tr>\n",
       "    <tr>\n",
       "      <th>21</th>\n",
       "      <td>1000000191</td>\n",
       "      <td>0</td>\n",
       "    </tr>\n",
       "    <tr>\n",
       "      <th>22</th>\n",
       "      <td>1000000192</td>\n",
       "      <td>0</td>\n",
       "    </tr>\n",
       "    <tr>\n",
       "      <th>23</th>\n",
       "      <td>1000000202</td>\n",
       "      <td>0</td>\n",
       "    </tr>\n",
       "    <tr>\n",
       "      <th>24</th>\n",
       "      <td>1000000241</td>\n",
       "      <td>0</td>\n",
       "    </tr>\n",
       "    <tr>\n",
       "      <th>25</th>\n",
       "      <td>1000000245</td>\n",
       "      <td>0</td>\n",
       "    </tr>\n",
       "    <tr>\n",
       "      <th>26</th>\n",
       "      <td>1000000252</td>\n",
       "      <td>0</td>\n",
       "    </tr>\n",
       "    <tr>\n",
       "      <th>27</th>\n",
       "      <td>1000000292</td>\n",
       "      <td>1</td>\n",
       "    </tr>\n",
       "    <tr>\n",
       "      <th>28</th>\n",
       "      <td>1000000319</td>\n",
       "      <td>0</td>\n",
       "    </tr>\n",
       "  </tbody>\n",
       "</table>\n",
       "</div>"
      ],
      "text/plain": [
       "         KNUMV  RB00\n",
       "0   1000000020     1\n",
       "1   1000000021     1\n",
       "2   1000000022     1\n",
       "3   1000000023     1\n",
       "4   1000000024     0\n",
       "5   1000000025     1\n",
       "6   1000000028     0\n",
       "7   1000000030     0\n",
       "8   1000000080     0\n",
       "9   1000000082     0\n",
       "10  1000000104     1\n",
       "11  1000000116     1\n",
       "12  1000000120     1\n",
       "13  1000000125     0\n",
       "14  1000000126     0\n",
       "15  1000000127     0\n",
       "16  1000000128     1\n",
       "17  1000000138     0\n",
       "18  1000000151     1\n",
       "19  1000000165     0\n",
       "20  1000000190     0\n",
       "21  1000000191     0\n",
       "22  1000000192     0\n",
       "23  1000000202     0\n",
       "24  1000000241     0\n",
       "25  1000000245     0\n",
       "26  1000000252     0\n",
       "27  1000000292     1\n",
       "28  1000000319     0"
      ]
     },
     "execution_count": 31,
     "metadata": {},
     "output_type": "execute_result"
    }
   ],
   "source": [
    "rb00"
   ]
  },
  {
   "cell_type": "markdown",
   "metadata": {},
   "source": [
    "Vamos fazer uma *left join* e juntar o tipo de condição de interesse às outras tabelas. Vamos armazenar o resultado em uma variável chamada`eek_bco`."
   ]
  },
  {
   "cell_type": "code",
   "execution_count": 32,
   "metadata": {
    "ExecuteTime": {
     "end_time": "2018-05-04T06:45:59.715952Z",
     "start_time": "2018-05-04T06:45:59.693271Z"
    }
   },
   "outputs": [
    {
     "data": {
      "text/html": [
       "<div>\n",
       "<style scoped>\n",
       "    .dataframe tbody tr th:only-of-type {\n",
       "        vertical-align: middle;\n",
       "    }\n",
       "\n",
       "    .dataframe tbody tr th {\n",
       "        vertical-align: top;\n",
       "    }\n",
       "\n",
       "    .dataframe thead th {\n",
       "        text-align: right;\n",
       "    }\n",
       "</style>\n",
       "<table border=\"1\" class=\"dataframe\">\n",
       "  <thead>\n",
       "    <tr style=\"text-align: right;\">\n",
       "      <th></th>\n",
       "      <th>EBELN</th>\n",
       "      <th>EBELP</th>\n",
       "      <th>TXZ01</th>\n",
       "      <th>MATNR</th>\n",
       "      <th>MENGE</th>\n",
       "      <th>NETPR</th>\n",
       "      <th>NETWR</th>\n",
       "      <th>ERNAM</th>\n",
       "      <th>LIFNR</th>\n",
       "      <th>KNUMV</th>\n",
       "      <th>RB00</th>\n",
       "    </tr>\n",
       "  </thead>\n",
       "  <tbody>\n",
       "    <tr>\n",
       "      <th>0</th>\n",
       "      <td>4500000001</td>\n",
       "      <td>10</td>\n",
       "      <td>Brent Crude Oil</td>\n",
       "      <td>BRENTCRUDE</td>\n",
       "      <td>20193</td>\n",
       "      <td>4335.0000</td>\n",
       "      <td>87536655.0000</td>\n",
       "      <td>GBI-085</td>\n",
       "      <td>125000.0000</td>\n",
       "      <td>1000000020.0000</td>\n",
       "      <td>1</td>\n",
       "    </tr>\n",
       "    <tr>\n",
       "      <th>1</th>\n",
       "      <td>4500000002</td>\n",
       "      <td>10</td>\n",
       "      <td>Brent Crude Oil</td>\n",
       "      <td>BRENTCRUDE</td>\n",
       "      <td>20103</td>\n",
       "      <td>4360.0000</td>\n",
       "      <td>87649080.0000</td>\n",
       "      <td>GBI-085</td>\n",
       "      <td>125000.0000</td>\n",
       "      <td>1000000021.0000</td>\n",
       "      <td>1</td>\n",
       "    </tr>\n",
       "    <tr>\n",
       "      <th>2</th>\n",
       "      <td>4500000003</td>\n",
       "      <td>10</td>\n",
       "      <td>Brent Crude Oil</td>\n",
       "      <td>BRENTCRUDE</td>\n",
       "      <td>20013</td>\n",
       "      <td>4340.0000</td>\n",
       "      <td>86856420.0000</td>\n",
       "      <td>GBI-085</td>\n",
       "      <td>125000.0000</td>\n",
       "      <td>1000000022.0000</td>\n",
       "      <td>1</td>\n",
       "    </tr>\n",
       "    <tr>\n",
       "      <th>3</th>\n",
       "      <td>4500000004</td>\n",
       "      <td>10</td>\n",
       "      <td>Brent Crude Oil</td>\n",
       "      <td>BRENTCRUDE</td>\n",
       "      <td>20154</td>\n",
       "      <td>4307.5000</td>\n",
       "      <td>83319972.5000</td>\n",
       "      <td>GBIFAC-01</td>\n",
       "      <td>125000.0000</td>\n",
       "      <td>1000000023.0000</td>\n",
       "      <td>1</td>\n",
       "    </tr>\n",
       "    <tr>\n",
       "      <th>4</th>\n",
       "      <td>4500000005</td>\n",
       "      <td>10</td>\n",
       "      <td>Brent Crude Oil</td>\n",
       "      <td>BRENTCRUDE</td>\n",
       "      <td>19985</td>\n",
       "      <td>4277.5000</td>\n",
       "      <td>85485837.5000</td>\n",
       "      <td>GBIFAC-01</td>\n",
       "      <td>125000.0000</td>\n",
       "      <td>1000000024.0000</td>\n",
       "      <td>0</td>\n",
       "    </tr>\n",
       "    <tr>\n",
       "      <th>5</th>\n",
       "      <td>4500000006</td>\n",
       "      <td>10</td>\n",
       "      <td>Brent Crude Oil</td>\n",
       "      <td>BRENTCRUDE</td>\n",
       "      <td>20003</td>\n",
       "      <td>4322.5000</td>\n",
       "      <td>86462967.5000</td>\n",
       "      <td>GBI-085</td>\n",
       "      <td>125000.0000</td>\n",
       "      <td>1000000025.0000</td>\n",
       "      <td>1</td>\n",
       "    </tr>\n",
       "    <tr>\n",
       "      <th>6</th>\n",
       "      <td>4500000009</td>\n",
       "      <td>10</td>\n",
       "      <td>Brent Crude Oil</td>\n",
       "      <td>BRENTCRUDE</td>\n",
       "      <td>19775</td>\n",
       "      <td>4342.5000</td>\n",
       "      <td>85872937.5000</td>\n",
       "      <td>GBIFAC-01</td>\n",
       "      <td>125000.0000</td>\n",
       "      <td>1000000028.0000</td>\n",
       "      <td>0</td>\n",
       "    </tr>\n",
       "    <tr>\n",
       "      <th>7</th>\n",
       "      <td>4500000011</td>\n",
       "      <td>10</td>\n",
       "      <td>Brent Crude Oil</td>\n",
       "      <td>BRENTCRUDE</td>\n",
       "      <td>19995</td>\n",
       "      <td>4332.5000</td>\n",
       "      <td>86628337.5000</td>\n",
       "      <td>GBIFAC-01</td>\n",
       "      <td>125000.0000</td>\n",
       "      <td>1000000030.0000</td>\n",
       "      <td>0</td>\n",
       "    </tr>\n",
       "    <tr>\n",
       "      <th>8</th>\n",
       "      <td>4500000061</td>\n",
       "      <td>10</td>\n",
       "      <td>Brent Crude Oil</td>\n",
       "      <td>BRENTCRUDE</td>\n",
       "      <td>19903</td>\n",
       "      <td>4205.0000</td>\n",
       "      <td>83692115.0000</td>\n",
       "      <td>GBIFAC-01</td>\n",
       "      <td>125000.0000</td>\n",
       "      <td>1000000080.0000</td>\n",
       "      <td>0</td>\n",
       "    </tr>\n",
       "    <tr>\n",
       "      <th>9</th>\n",
       "      <td>4500000063</td>\n",
       "      <td>10</td>\n",
       "      <td>Brent Crude Oil</td>\n",
       "      <td>BRENTCRUDE</td>\n",
       "      <td>19938</td>\n",
       "      <td>4165.0000</td>\n",
       "      <td>83041770.0000</td>\n",
       "      <td>GBIFAC-01</td>\n",
       "      <td>125000.0000</td>\n",
       "      <td>1000000082.0000</td>\n",
       "      <td>0</td>\n",
       "    </tr>\n",
       "    <tr>\n",
       "      <th>10</th>\n",
       "      <td>4500000085</td>\n",
       "      <td>10</td>\n",
       "      <td>Brent Crude Oil</td>\n",
       "      <td>BRENTCRUDE</td>\n",
       "      <td>20067</td>\n",
       "      <td>4215.0000</td>\n",
       "      <td>84582405.0000</td>\n",
       "      <td>GBIFAC-01</td>\n",
       "      <td>125000.0000</td>\n",
       "      <td>1000000104.0000</td>\n",
       "      <td>1</td>\n",
       "    </tr>\n",
       "    <tr>\n",
       "      <th>11</th>\n",
       "      <td>4500000097</td>\n",
       "      <td>10</td>\n",
       "      <td>Brent Crude Oil</td>\n",
       "      <td>BRENTCRUDE</td>\n",
       "      <td>20228</td>\n",
       "      <td>4252.5000</td>\n",
       "      <td>86019570.0000</td>\n",
       "      <td>GBI-085</td>\n",
       "      <td>125000.0000</td>\n",
       "      <td>1000000116.0000</td>\n",
       "      <td>1</td>\n",
       "    </tr>\n",
       "    <tr>\n",
       "      <th>12</th>\n",
       "      <td>4500000101</td>\n",
       "      <td>10</td>\n",
       "      <td>Brent Crude Oil</td>\n",
       "      <td>BRENTCRUDE</td>\n",
       "      <td>20028</td>\n",
       "      <td>4227.5000</td>\n",
       "      <td>84668370.0000</td>\n",
       "      <td>GBI-085</td>\n",
       "      <td>125000.0000</td>\n",
       "      <td>1000000120.0000</td>\n",
       "      <td>1</td>\n",
       "    </tr>\n",
       "    <tr>\n",
       "      <th>13</th>\n",
       "      <td>4500000106</td>\n",
       "      <td>10</td>\n",
       "      <td>Brent Crude Oil</td>\n",
       "      <td>BRENTCRUDE</td>\n",
       "      <td>19918</td>\n",
       "      <td>4257.5000</td>\n",
       "      <td>84800885.0000</td>\n",
       "      <td>GBIFAC-01</td>\n",
       "      <td>125000.0000</td>\n",
       "      <td>1000000125.0000</td>\n",
       "      <td>0</td>\n",
       "    </tr>\n",
       "    <tr>\n",
       "      <th>14</th>\n",
       "      <td>4500000107</td>\n",
       "      <td>10</td>\n",
       "      <td>Brent Crude Oil</td>\n",
       "      <td>BRENTCRUDE</td>\n",
       "      <td>19810</td>\n",
       "      <td>4215.0000</td>\n",
       "      <td>83499150.0000</td>\n",
       "      <td>GBIFAC-01</td>\n",
       "      <td>125000.0000</td>\n",
       "      <td>1000000126.0000</td>\n",
       "      <td>0</td>\n",
       "    </tr>\n",
       "    <tr>\n",
       "      <th>15</th>\n",
       "      <td>4500000108</td>\n",
       "      <td>10</td>\n",
       "      <td>Brent Crude Oil</td>\n",
       "      <td>BRENTCRUDE</td>\n",
       "      <td>19987</td>\n",
       "      <td>4330.0000</td>\n",
       "      <td>86543710.0000</td>\n",
       "      <td>GBIFAC-01</td>\n",
       "      <td>125000.0000</td>\n",
       "      <td>1000000127.0000</td>\n",
       "      <td>0</td>\n",
       "    </tr>\n",
       "    <tr>\n",
       "      <th>16</th>\n",
       "      <td>4500000116</td>\n",
       "      <td>10</td>\n",
       "      <td>Brent Crude Oil</td>\n",
       "      <td>BRENTCRUDE</td>\n",
       "      <td>20184</td>\n",
       "      <td>4345.0000</td>\n",
       "      <td>87699480.0000</td>\n",
       "      <td>GBI-085</td>\n",
       "      <td>125000.0000</td>\n",
       "      <td>1000000128.0000</td>\n",
       "      <td>1</td>\n",
       "    </tr>\n",
       "    <tr>\n",
       "      <th>17</th>\n",
       "      <td>4500000120</td>\n",
       "      <td>10</td>\n",
       "      <td>Brent Crude Oil</td>\n",
       "      <td>BRENTCRUDE</td>\n",
       "      <td>19864</td>\n",
       "      <td>4492.5000</td>\n",
       "      <td>89239020.0000</td>\n",
       "      <td>GBIFAC-01</td>\n",
       "      <td>125000.0000</td>\n",
       "      <td>1000000138.0000</td>\n",
       "      <td>0</td>\n",
       "    </tr>\n",
       "    <tr>\n",
       "      <th>18</th>\n",
       "      <td>4500000133</td>\n",
       "      <td>10</td>\n",
       "      <td>Brent Crude Oil</td>\n",
       "      <td>BRENTCRUDE</td>\n",
       "      <td>20260</td>\n",
       "      <td>4572.5000</td>\n",
       "      <td>92638850.0000</td>\n",
       "      <td>GBI-085</td>\n",
       "      <td>125000.0000</td>\n",
       "      <td>1000000151.0000</td>\n",
       "      <td>1</td>\n",
       "    </tr>\n",
       "    <tr>\n",
       "      <th>19</th>\n",
       "      <td>4500000147</td>\n",
       "      <td>10</td>\n",
       "      <td>Brent Crude Oil</td>\n",
       "      <td>BRENTCRUDE</td>\n",
       "      <td>19856</td>\n",
       "      <td>4517.5000</td>\n",
       "      <td>89699480.0000</td>\n",
       "      <td>GBIFAC-01</td>\n",
       "      <td>125000.0000</td>\n",
       "      <td>1000000165.0000</td>\n",
       "      <td>0</td>\n",
       "    </tr>\n",
       "    <tr>\n",
       "      <th>20</th>\n",
       "      <td>4500000173</td>\n",
       "      <td>10</td>\n",
       "      <td>Brent Crude Oil</td>\n",
       "      <td>BRENTCRUDE</td>\n",
       "      <td>19780</td>\n",
       "      <td>4510.0000</td>\n",
       "      <td>89207800.0000</td>\n",
       "      <td>GBIFAC-01</td>\n",
       "      <td>125000.0000</td>\n",
       "      <td>1000000190.0000</td>\n",
       "      <td>0</td>\n",
       "    </tr>\n",
       "    <tr>\n",
       "      <th>21</th>\n",
       "      <td>4500000174</td>\n",
       "      <td>10</td>\n",
       "      <td>Brent Crude Oil</td>\n",
       "      <td>BRENTCRUDE</td>\n",
       "      <td>19916</td>\n",
       "      <td>4467.5000</td>\n",
       "      <td>88974730.0000</td>\n",
       "      <td>GBIFAC-01</td>\n",
       "      <td>125000.0000</td>\n",
       "      <td>1000000191.0000</td>\n",
       "      <td>0</td>\n",
       "    </tr>\n",
       "    <tr>\n",
       "      <th>22</th>\n",
       "      <td>4500000175</td>\n",
       "      <td>10</td>\n",
       "      <td>Brent Crude Oil</td>\n",
       "      <td>BRENTCRUDE</td>\n",
       "      <td>19929</td>\n",
       "      <td>4402.5000</td>\n",
       "      <td>87737422.5000</td>\n",
       "      <td>GBIFAC-01</td>\n",
       "      <td>125000.0000</td>\n",
       "      <td>1000000192.0000</td>\n",
       "      <td>0</td>\n",
       "    </tr>\n",
       "    <tr>\n",
       "      <th>23</th>\n",
       "      <td>4500000185</td>\n",
       "      <td>10</td>\n",
       "      <td>Brent Crude Oil</td>\n",
       "      <td>BRENTCRUDE</td>\n",
       "      <td>19815</td>\n",
       "      <td>4462.5000</td>\n",
       "      <td>88424437.5000</td>\n",
       "      <td>GBIFAC-01</td>\n",
       "      <td>125000.0000</td>\n",
       "      <td>1000000202.0000</td>\n",
       "      <td>0</td>\n",
       "    </tr>\n",
       "    <tr>\n",
       "      <th>24</th>\n",
       "      <td>4500000220</td>\n",
       "      <td>10</td>\n",
       "      <td>Brent Crude Oil</td>\n",
       "      <td>BRENTCRUDE</td>\n",
       "      <td>19860</td>\n",
       "      <td>4605.0000</td>\n",
       "      <td>91455300.0000</td>\n",
       "      <td>GBIFAC-01</td>\n",
       "      <td>125000.0000</td>\n",
       "      <td>1000000241.0000</td>\n",
       "      <td>0</td>\n",
       "    </tr>\n",
       "    <tr>\n",
       "      <th>25</th>\n",
       "      <td>4500000222</td>\n",
       "      <td>10</td>\n",
       "      <td>Brent Crude Oil</td>\n",
       "      <td>BRENTCRUDE</td>\n",
       "      <td>19960</td>\n",
       "      <td>4562.5000</td>\n",
       "      <td>91067500.0000</td>\n",
       "      <td>GBIFAC-01</td>\n",
       "      <td>125000.0000</td>\n",
       "      <td>1000000245.0000</td>\n",
       "      <td>0</td>\n",
       "    </tr>\n",
       "    <tr>\n",
       "      <th>26</th>\n",
       "      <td>4500000225</td>\n",
       "      <td>10</td>\n",
       "      <td>Brent Crude Oil</td>\n",
       "      <td>BRENTCRUDE</td>\n",
       "      <td>19853</td>\n",
       "      <td>4490.0000</td>\n",
       "      <td>89139970.0000</td>\n",
       "      <td>GBIFAC-01</td>\n",
       "      <td>125000.0000</td>\n",
       "      <td>1000000252.0000</td>\n",
       "      <td>0</td>\n",
       "    </tr>\n",
       "    <tr>\n",
       "      <th>27</th>\n",
       "      <td>4500000249</td>\n",
       "      <td>10</td>\n",
       "      <td>Brent Crude Oil</td>\n",
       "      <td>BRENTCRUDE</td>\n",
       "      <td>20058</td>\n",
       "      <td>4640.0000</td>\n",
       "      <td>93069120.0000</td>\n",
       "      <td>GBI-085</td>\n",
       "      <td>125000.0000</td>\n",
       "      <td>1000000292.0000</td>\n",
       "      <td>1</td>\n",
       "    </tr>\n",
       "    <tr>\n",
       "      <th>28</th>\n",
       "      <td>4500000256</td>\n",
       "      <td>10</td>\n",
       "      <td>Brent Crude Oil</td>\n",
       "      <td>BRENTCRUDE</td>\n",
       "      <td>19919</td>\n",
       "      <td>4607.5000</td>\n",
       "      <td>91776792.5000</td>\n",
       "      <td>GBIFAC-01</td>\n",
       "      <td>125000.0000</td>\n",
       "      <td>1000000319.0000</td>\n",
       "      <td>0</td>\n",
       "    </tr>\n",
       "  </tbody>\n",
       "</table>\n",
       "</div>"
      ],
      "text/plain": [
       "         EBELN  EBELP            TXZ01       MATNR  MENGE     NETPR  \\\n",
       "0   4500000001     10  Brent Crude Oil  BRENTCRUDE  20193 4335.0000   \n",
       "1   4500000002     10  Brent Crude Oil  BRENTCRUDE  20103 4360.0000   \n",
       "2   4500000003     10  Brent Crude Oil  BRENTCRUDE  20013 4340.0000   \n",
       "3   4500000004     10  Brent Crude Oil  BRENTCRUDE  20154 4307.5000   \n",
       "4   4500000005     10  Brent Crude Oil  BRENTCRUDE  19985 4277.5000   \n",
       "5   4500000006     10  Brent Crude Oil  BRENTCRUDE  20003 4322.5000   \n",
       "6   4500000009     10  Brent Crude Oil  BRENTCRUDE  19775 4342.5000   \n",
       "7   4500000011     10  Brent Crude Oil  BRENTCRUDE  19995 4332.5000   \n",
       "8   4500000061     10  Brent Crude Oil  BRENTCRUDE  19903 4205.0000   \n",
       "9   4500000063     10  Brent Crude Oil  BRENTCRUDE  19938 4165.0000   \n",
       "10  4500000085     10  Brent Crude Oil  BRENTCRUDE  20067 4215.0000   \n",
       "11  4500000097     10  Brent Crude Oil  BRENTCRUDE  20228 4252.5000   \n",
       "12  4500000101     10  Brent Crude Oil  BRENTCRUDE  20028 4227.5000   \n",
       "13  4500000106     10  Brent Crude Oil  BRENTCRUDE  19918 4257.5000   \n",
       "14  4500000107     10  Brent Crude Oil  BRENTCRUDE  19810 4215.0000   \n",
       "15  4500000108     10  Brent Crude Oil  BRENTCRUDE  19987 4330.0000   \n",
       "16  4500000116     10  Brent Crude Oil  BRENTCRUDE  20184 4345.0000   \n",
       "17  4500000120     10  Brent Crude Oil  BRENTCRUDE  19864 4492.5000   \n",
       "18  4500000133     10  Brent Crude Oil  BRENTCRUDE  20260 4572.5000   \n",
       "19  4500000147     10  Brent Crude Oil  BRENTCRUDE  19856 4517.5000   \n",
       "20  4500000173     10  Brent Crude Oil  BRENTCRUDE  19780 4510.0000   \n",
       "21  4500000174     10  Brent Crude Oil  BRENTCRUDE  19916 4467.5000   \n",
       "22  4500000175     10  Brent Crude Oil  BRENTCRUDE  19929 4402.5000   \n",
       "23  4500000185     10  Brent Crude Oil  BRENTCRUDE  19815 4462.5000   \n",
       "24  4500000220     10  Brent Crude Oil  BRENTCRUDE  19860 4605.0000   \n",
       "25  4500000222     10  Brent Crude Oil  BRENTCRUDE  19960 4562.5000   \n",
       "26  4500000225     10  Brent Crude Oil  BRENTCRUDE  19853 4490.0000   \n",
       "27  4500000249     10  Brent Crude Oil  BRENTCRUDE  20058 4640.0000   \n",
       "28  4500000256     10  Brent Crude Oil  BRENTCRUDE  19919 4607.5000   \n",
       "\n",
       "           NETWR      ERNAM       LIFNR           KNUMV  RB00  \n",
       "0  87536655.0000    GBI-085 125000.0000 1000000020.0000     1  \n",
       "1  87649080.0000    GBI-085 125000.0000 1000000021.0000     1  \n",
       "2  86856420.0000    GBI-085 125000.0000 1000000022.0000     1  \n",
       "3  83319972.5000  GBIFAC-01 125000.0000 1000000023.0000     1  \n",
       "4  85485837.5000  GBIFAC-01 125000.0000 1000000024.0000     0  \n",
       "5  86462967.5000    GBI-085 125000.0000 1000000025.0000     1  \n",
       "6  85872937.5000  GBIFAC-01 125000.0000 1000000028.0000     0  \n",
       "7  86628337.5000  GBIFAC-01 125000.0000 1000000030.0000     0  \n",
       "8  83692115.0000  GBIFAC-01 125000.0000 1000000080.0000     0  \n",
       "9  83041770.0000  GBIFAC-01 125000.0000 1000000082.0000     0  \n",
       "10 84582405.0000  GBIFAC-01 125000.0000 1000000104.0000     1  \n",
       "11 86019570.0000    GBI-085 125000.0000 1000000116.0000     1  \n",
       "12 84668370.0000    GBI-085 125000.0000 1000000120.0000     1  \n",
       "13 84800885.0000  GBIFAC-01 125000.0000 1000000125.0000     0  \n",
       "14 83499150.0000  GBIFAC-01 125000.0000 1000000126.0000     0  \n",
       "15 86543710.0000  GBIFAC-01 125000.0000 1000000127.0000     0  \n",
       "16 87699480.0000    GBI-085 125000.0000 1000000128.0000     1  \n",
       "17 89239020.0000  GBIFAC-01 125000.0000 1000000138.0000     0  \n",
       "18 92638850.0000    GBI-085 125000.0000 1000000151.0000     1  \n",
       "19 89699480.0000  GBIFAC-01 125000.0000 1000000165.0000     0  \n",
       "20 89207800.0000  GBIFAC-01 125000.0000 1000000190.0000     0  \n",
       "21 88974730.0000  GBIFAC-01 125000.0000 1000000191.0000     0  \n",
       "22 87737422.5000  GBIFAC-01 125000.0000 1000000192.0000     0  \n",
       "23 88424437.5000  GBIFAC-01 125000.0000 1000000202.0000     0  \n",
       "24 91455300.0000  GBIFAC-01 125000.0000 1000000241.0000     0  \n",
       "25 91067500.0000  GBIFAC-01 125000.0000 1000000245.0000     0  \n",
       "26 89139970.0000  GBIFAC-01 125000.0000 1000000252.0000     0  \n",
       "27 93069120.0000    GBI-085 125000.0000 1000000292.0000     1  \n",
       "28 91776792.5000  GBIFAC-01 125000.0000 1000000319.0000     0  "
      ]
     },
     "execution_count": 32,
     "metadata": {},
     "output_type": "execute_result"
    }
   ],
   "source": [
    "eek_bco = pd.merge(ekko_ekpo_bco, rb00, on='KNUMV', how='left')\n",
    "eek_bco"
   ]
  },
  {
   "cell_type": "markdown",
   "metadata": {},
   "source": [
    "## Qual a fraude?"
   ]
  },
  {
   "cell_type": "markdown",
   "metadata": {},
   "source": [
    "O que o fraudador explora?"
   ]
  },
  {
   "cell_type": "code",
   "execution_count": 33,
   "metadata": {},
   "outputs": [
    {
     "data": {
      "text/plain": [
       "min    20003\n",
       "max    20260\n",
       "Name: MENGE, dtype: int64"
      ]
     },
     "execution_count": 33,
     "metadata": {},
     "output_type": "execute_result"
    }
   ],
   "source": [
    "eek_bco[eek_bco['RB00']==1]['MENGE'].agg(['min','max'])"
   ]
  },
  {
   "cell_type": "code",
   "execution_count": 34,
   "metadata": {
    "ExecuteTime": {
     "end_time": "2018-05-04T06:45:59.771874Z",
     "start_time": "2018-05-04T06:45:59.750007Z"
    }
   },
   "outputs": [
    {
     "data": {
      "text/plain": [
       "min    19775\n",
       "max    19995\n",
       "Name: MENGE, dtype: int64"
      ]
     },
     "execution_count": 34,
     "metadata": {},
     "output_type": "execute_result"
    }
   ],
   "source": [
    "eek_bco[eek_bco['RB00']==0]['MENGE'].agg(['min','max'])"
   ]
  },
  {
   "cell_type": "markdown",
   "metadata": {},
   "source": [
    "Quem é a pessoa de interesse?"
   ]
  },
  {
   "cell_type": "code",
   "execution_count": 35,
   "metadata": {
    "ExecuteTime": {
     "end_time": "2018-05-04T06:45:59.801166Z",
     "start_time": "2018-05-04T06:45:59.776502Z"
    }
   },
   "outputs": [
    {
     "data": {
      "text/html": [
       "<div>\n",
       "<style scoped>\n",
       "    .dataframe tbody tr th:only-of-type {\n",
       "        vertical-align: middle;\n",
       "    }\n",
       "\n",
       "    .dataframe tbody tr th {\n",
       "        vertical-align: top;\n",
       "    }\n",
       "\n",
       "    .dataframe thead th {\n",
       "        text-align: right;\n",
       "    }\n",
       "</style>\n",
       "<table border=\"1\" class=\"dataframe\">\n",
       "  <thead>\n",
       "    <tr style=\"text-align: right;\">\n",
       "      <th></th>\n",
       "      <th>MENGE</th>\n",
       "      <th>ERNAM</th>\n",
       "    </tr>\n",
       "    <tr>\n",
       "      <th>RB00</th>\n",
       "      <th></th>\n",
       "      <th></th>\n",
       "    </tr>\n",
       "  </thead>\n",
       "  <tbody>\n",
       "    <tr>\n",
       "      <th>0</th>\n",
       "      <td>19892.3889</td>\n",
       "      <td>[GBIFAC-01]</td>\n",
       "    </tr>\n",
       "    <tr>\n",
       "      <th>1</th>\n",
       "      <td>20117.3636</td>\n",
       "      <td>[GBI-085, GBIFAC-01]</td>\n",
       "    </tr>\n",
       "  </tbody>\n",
       "</table>\n",
       "</div>"
      ],
      "text/plain": [
       "          MENGE                 ERNAM\n",
       "RB00                                 \n",
       "0    19892.3889           [GBIFAC-01]\n",
       "1    20117.3636  [GBI-085, GBIFAC-01]"
      ]
     },
     "execution_count": 35,
     "metadata": {},
     "output_type": "execute_result"
    }
   ],
   "source": [
    "eek_bco.groupby('RB00')[['MENGE', 'ERNAM']].agg({'MENGE': 'mean', 'ERNAM':'unique'})"
   ]
  },
  {
   "cell_type": "markdown",
   "metadata": {},
   "source": [
    "Qual é o dano financeiro?"
   ]
  },
  {
   "cell_type": "code",
   "execution_count": 36,
   "metadata": {
    "ExecuteTime": {
     "end_time": "2018-05-04T06:45:59.824970Z",
     "start_time": "2018-05-04T06:45:59.807261Z"
    }
   },
   "outputs": [
    {
     "data": {
      "text/plain": [
       "450000.0"
      ]
     },
     "execution_count": 36,
     "metadata": {},
     "output_type": "execute_result"
    }
   ],
   "source": [
    "abs((len(ekko_ekpo_bco) - len(konv_bco[konv_bco['KSCHL']=='RB00'])) *\\\n",
    "konv_bco[konv_bco['KSCHL']=='RB00']['KBETR'].unique()[0])"
   ]
  },
  {
   "cell_type": "markdown",
   "metadata": {
    "ExecuteTime": {
     "end_time": "2018-05-04T06:16:12.187499Z",
     "start_time": "2018-05-04T06:16:12.178351Z"
    }
   },
   "source": [
    "Você consegue explicar a fraude?"
   ]
  },
  {
   "cell_type": "markdown",
   "metadata": {},
   "source": [
    "Obviamente esse exercício visa fazer os leitores pensarem \"fora da caixa\". As análises aqui realizadas não esgotam outras análises mais elaboradas, e consequentemente, em uma auditoria real necessitaríamos de outras análises e documentos suportes para podermos dar um parecer sobre a real existência ou não de fraude.\n",
    "Venho reforçar também como a análise de dados através de métodos estatísticos e ciência de dados, aliada ao ceticismo, pensamento análitico e criatividade tende a ser uma ferramenta poderosa no auxílio da auditoria interna."
   ]
  }
 ],
 "metadata": {
  "kernelspec": {
   "display_name": "Python 3",
   "language": "python",
   "name": "python3"
  },
  "language_info": {
   "codemirror_mode": {
    "name": "ipython",
    "version": 3
   },
   "file_extension": ".py",
   "mimetype": "text/x-python",
   "name": "python",
   "nbconvert_exporter": "python",
   "pygments_lexer": "ipython3",
   "version": "3.7.3"
  },
  "toc": {
   "base_numbering": 1,
   "nav_menu": {},
   "number_sections": true,
   "sideBar": true,
   "skip_h1_title": false,
   "title_cell": "Table of Contents",
   "title_sidebar": "Contents",
   "toc_cell": false,
   "toc_position": {},
   "toc_section_display": true,
   "toc_window_display": false
  },
  "varInspector": {
   "cols": {
    "lenName": 16,
    "lenType": 16,
    "lenVar": 40
   },
   "kernels_config": {
    "python": {
     "delete_cmd_postfix": "",
     "delete_cmd_prefix": "del ",
     "library": "var_list.py",
     "varRefreshCmd": "print(var_dic_list())"
    },
    "r": {
     "delete_cmd_postfix": ") ",
     "delete_cmd_prefix": "rm(",
     "library": "var_list.r",
     "varRefreshCmd": "cat(var_dic_list()) "
    }
   },
   "types_to_exclude": [
    "module",
    "function",
    "builtin_function_or_method",
    "instance",
    "_Feature"
   ],
   "window_display": false
  }
 },
 "nbformat": 4,
 "nbformat_minor": 2
}
